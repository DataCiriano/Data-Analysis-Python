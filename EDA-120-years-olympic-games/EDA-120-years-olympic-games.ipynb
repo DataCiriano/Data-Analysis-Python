{
 "cells": [
  {
   "cell_type": "code",
   "execution_count": 1,
   "id": "4784f87c",
   "metadata": {
    "_cell_guid": "b1076dfc-b9ad-4769-8c92-a6c4dae69d19",
    "_uuid": "8f2839f25d086af736a60e9eeb907d3b93b6e0e5",
    "execution": {
     "iopub.execute_input": "2023-11-09T16:37:30.990540Z",
     "iopub.status.busy": "2023-11-09T16:37:30.989700Z",
     "iopub.status.idle": "2023-11-09T16:37:31.428995Z",
     "shell.execute_reply": "2023-11-09T16:37:31.427477Z"
    },
    "papermill": {
     "duration": 0.461789,
     "end_time": "2023-11-09T16:37:31.432174",
     "exception": false,
     "start_time": "2023-11-09T16:37:30.970385",
     "status": "completed"
    },
    "tags": []
   },
   "outputs": [
    {
     "name": "stdout",
     "output_type": "stream",
     "text": [
      "/kaggle/input/120-years-of-olympic-history-athletes-and-results/noc_regions.csv\n",
      "/kaggle/input/120-years-of-olympic-history-athletes-and-results/athlete_events.csv\n"
     ]
    }
   ],
   "source": [
    "#Import necessary libraries\n",
    "import numpy as np \n",
    "import pandas as pd \n",
    "\n",
    "import os\n",
    "for dirname, _, filenames in os.walk('/kaggle/input'):\n",
    "    for filename in filenames:\n",
    "        print(os.path.join(dirname, filename))"
   ]
  },
  {
   "cell_type": "markdown",
   "id": "fdb5adca",
   "metadata": {
    "papermill": {
     "duration": 0.016823,
     "end_time": "2023-11-09T16:37:31.466835",
     "exception": false,
     "start_time": "2023-11-09T16:37:31.450012",
     "status": "completed"
    },
    "tags": []
   },
   "source": [
    "## Data Exploratory Anlalysis (EDA)\n",
    "\n",
    "1. Data loading\n",
    "2. Initial exploration\n",
    "3. Data cleaning\n",
    "4. Univariate data visualizations\n",
    "5. Exploration of relationships\n",
    "6. Multvariate data visualizations\n",
    "7. Communication of findings"
   ]
  },
  {
   "cell_type": "markdown",
   "id": "f766bd69",
   "metadata": {
    "papermill": {
     "duration": 0.016704,
     "end_time": "2023-11-09T16:37:31.501333",
     "exception": false,
     "start_time": "2023-11-09T16:37:31.484629",
     "status": "completed"
    },
    "tags": []
   },
   "source": [
    "## Questions\n",
    "\n",
    "1. How many medals has been given on each category?\n",
    "2. Witch are the most popular sports in the olympic games?\n",
    "3. How many men and women have participated in the olympic games?\n",
    "4. Evolution of the number of sports by edition\n",
    "5. Number of Olympic Games by city"
   ]
  },
  {
   "cell_type": "markdown",
   "id": "b2852505",
   "metadata": {
    "papermill": {
     "duration": 0.016641,
     "end_time": "2023-11-09T16:37:31.535052",
     "exception": false,
     "start_time": "2023-11-09T16:37:31.518411",
     "status": "completed"
    },
    "tags": []
   },
   "source": [
    "# 1. Data loading:"
   ]
  },
  {
   "cell_type": "code",
   "execution_count": 2,
   "id": "b106aff8",
   "metadata": {
    "execution": {
     "iopub.execute_input": "2023-11-09T16:37:31.570993Z",
     "iopub.status.busy": "2023-11-09T16:37:31.570431Z",
     "iopub.status.idle": "2023-11-09T16:37:33.017098Z",
     "shell.execute_reply": "2023-11-09T16:37:33.015711Z"
    },
    "papermill": {
     "duration": 1.467792,
     "end_time": "2023-11-09T16:37:33.019882",
     "exception": false,
     "start_time": "2023-11-09T16:37:31.552090",
     "status": "completed"
    },
    "tags": []
   },
   "outputs": [
    {
     "data": {
      "text/html": [
       "<div>\n",
       "<style scoped>\n",
       "    .dataframe tbody tr th:only-of-type {\n",
       "        vertical-align: middle;\n",
       "    }\n",
       "\n",
       "    .dataframe tbody tr th {\n",
       "        vertical-align: top;\n",
       "    }\n",
       "\n",
       "    .dataframe thead th {\n",
       "        text-align: right;\n",
       "    }\n",
       "</style>\n",
       "<table border=\"1\" class=\"dataframe\">\n",
       "  <thead>\n",
       "    <tr style=\"text-align: right;\">\n",
       "      <th></th>\n",
       "      <th>ID</th>\n",
       "      <th>Name</th>\n",
       "      <th>Sex</th>\n",
       "      <th>Age</th>\n",
       "      <th>Height</th>\n",
       "      <th>Weight</th>\n",
       "      <th>Team</th>\n",
       "      <th>NOC</th>\n",
       "      <th>Games</th>\n",
       "      <th>Year</th>\n",
       "      <th>Season</th>\n",
       "      <th>City</th>\n",
       "      <th>Sport</th>\n",
       "      <th>Event</th>\n",
       "      <th>Medal</th>\n",
       "    </tr>\n",
       "  </thead>\n",
       "  <tbody>\n",
       "    <tr>\n",
       "      <th>0</th>\n",
       "      <td>1</td>\n",
       "      <td>A Dijiang</td>\n",
       "      <td>M</td>\n",
       "      <td>24.0</td>\n",
       "      <td>180.0</td>\n",
       "      <td>80.0</td>\n",
       "      <td>China</td>\n",
       "      <td>CHN</td>\n",
       "      <td>1992 Summer</td>\n",
       "      <td>1992</td>\n",
       "      <td>Summer</td>\n",
       "      <td>Barcelona</td>\n",
       "      <td>Basketball</td>\n",
       "      <td>Basketball Men's Basketball</td>\n",
       "      <td>NaN</td>\n",
       "    </tr>\n",
       "    <tr>\n",
       "      <th>1</th>\n",
       "      <td>2</td>\n",
       "      <td>A Lamusi</td>\n",
       "      <td>M</td>\n",
       "      <td>23.0</td>\n",
       "      <td>170.0</td>\n",
       "      <td>60.0</td>\n",
       "      <td>China</td>\n",
       "      <td>CHN</td>\n",
       "      <td>2012 Summer</td>\n",
       "      <td>2012</td>\n",
       "      <td>Summer</td>\n",
       "      <td>London</td>\n",
       "      <td>Judo</td>\n",
       "      <td>Judo Men's Extra-Lightweight</td>\n",
       "      <td>NaN</td>\n",
       "    </tr>\n",
       "    <tr>\n",
       "      <th>2</th>\n",
       "      <td>3</td>\n",
       "      <td>Gunnar Nielsen Aaby</td>\n",
       "      <td>M</td>\n",
       "      <td>24.0</td>\n",
       "      <td>NaN</td>\n",
       "      <td>NaN</td>\n",
       "      <td>Denmark</td>\n",
       "      <td>DEN</td>\n",
       "      <td>1920 Summer</td>\n",
       "      <td>1920</td>\n",
       "      <td>Summer</td>\n",
       "      <td>Antwerpen</td>\n",
       "      <td>Football</td>\n",
       "      <td>Football Men's Football</td>\n",
       "      <td>NaN</td>\n",
       "    </tr>\n",
       "    <tr>\n",
       "      <th>3</th>\n",
       "      <td>4</td>\n",
       "      <td>Edgar Lindenau Aabye</td>\n",
       "      <td>M</td>\n",
       "      <td>34.0</td>\n",
       "      <td>NaN</td>\n",
       "      <td>NaN</td>\n",
       "      <td>Denmark/Sweden</td>\n",
       "      <td>DEN</td>\n",
       "      <td>1900 Summer</td>\n",
       "      <td>1900</td>\n",
       "      <td>Summer</td>\n",
       "      <td>Paris</td>\n",
       "      <td>Tug-Of-War</td>\n",
       "      <td>Tug-Of-War Men's Tug-Of-War</td>\n",
       "      <td>Gold</td>\n",
       "    </tr>\n",
       "    <tr>\n",
       "      <th>4</th>\n",
       "      <td>5</td>\n",
       "      <td>Christine Jacoba Aaftink</td>\n",
       "      <td>F</td>\n",
       "      <td>21.0</td>\n",
       "      <td>185.0</td>\n",
       "      <td>82.0</td>\n",
       "      <td>Netherlands</td>\n",
       "      <td>NED</td>\n",
       "      <td>1988 Winter</td>\n",
       "      <td>1988</td>\n",
       "      <td>Winter</td>\n",
       "      <td>Calgary</td>\n",
       "      <td>Speed Skating</td>\n",
       "      <td>Speed Skating Women's 500 metres</td>\n",
       "      <td>NaN</td>\n",
       "    </tr>\n",
       "  </tbody>\n",
       "</table>\n",
       "</div>"
      ],
      "text/plain": [
       "   ID                      Name Sex   Age  Height  Weight            Team  \\\n",
       "0   1                 A Dijiang   M  24.0   180.0    80.0           China   \n",
       "1   2                  A Lamusi   M  23.0   170.0    60.0           China   \n",
       "2   3       Gunnar Nielsen Aaby   M  24.0     NaN     NaN         Denmark   \n",
       "3   4      Edgar Lindenau Aabye   M  34.0     NaN     NaN  Denmark/Sweden   \n",
       "4   5  Christine Jacoba Aaftink   F  21.0   185.0    82.0     Netherlands   \n",
       "\n",
       "   NOC        Games  Year  Season       City          Sport  \\\n",
       "0  CHN  1992 Summer  1992  Summer  Barcelona     Basketball   \n",
       "1  CHN  2012 Summer  2012  Summer     London           Judo   \n",
       "2  DEN  1920 Summer  1920  Summer  Antwerpen       Football   \n",
       "3  DEN  1900 Summer  1900  Summer      Paris     Tug-Of-War   \n",
       "4  NED  1988 Winter  1988  Winter    Calgary  Speed Skating   \n",
       "\n",
       "                              Event Medal  \n",
       "0       Basketball Men's Basketball   NaN  \n",
       "1      Judo Men's Extra-Lightweight   NaN  \n",
       "2           Football Men's Football   NaN  \n",
       "3       Tug-Of-War Men's Tug-Of-War  Gold  \n",
       "4  Speed Skating Women's 500 metres   NaN  "
      ]
     },
     "execution_count": 2,
     "metadata": {},
     "output_type": "execute_result"
    }
   ],
   "source": [
    "data = pd.read_csv('/kaggle/input/120-years-of-olympic-history-athletes-and-results/athlete_events.csv')\n",
    "data.head()"
   ]
  },
  {
   "cell_type": "markdown",
   "id": "a130032f",
   "metadata": {
    "papermill": {
     "duration": 0.017303,
     "end_time": "2023-11-09T16:37:33.054997",
     "exception": false,
     "start_time": "2023-11-09T16:37:33.037694",
     "status": "completed"
    },
    "tags": []
   },
   "source": [
    "# 2. Initial exploration:"
   ]
  },
  {
   "cell_type": "code",
   "execution_count": 3,
   "id": "f8869299",
   "metadata": {
    "execution": {
     "iopub.execute_input": "2023-11-09T16:37:33.092648Z",
     "iopub.status.busy": "2023-11-09T16:37:33.091342Z",
     "iopub.status.idle": "2023-11-09T16:37:33.099569Z",
     "shell.execute_reply": "2023-11-09T16:37:33.098386Z"
    },
    "papermill": {
     "duration": 0.029864,
     "end_time": "2023-11-09T16:37:33.102166",
     "exception": false,
     "start_time": "2023-11-09T16:37:33.072302",
     "status": "completed"
    },
    "tags": []
   },
   "outputs": [
    {
     "data": {
      "text/plain": [
       "(271116, 15)"
      ]
     },
     "execution_count": 3,
     "metadata": {},
     "output_type": "execute_result"
    }
   ],
   "source": [
    "data.shape\n",
    "#With this instruction we can see the number of rows and columns in the DataFrame"
   ]
  },
  {
   "cell_type": "code",
   "execution_count": 4,
   "id": "36611980",
   "metadata": {
    "execution": {
     "iopub.execute_input": "2023-11-09T16:37:33.139035Z",
     "iopub.status.busy": "2023-11-09T16:37:33.138613Z",
     "iopub.status.idle": "2023-11-09T16:37:33.443442Z",
     "shell.execute_reply": "2023-11-09T16:37:33.441934Z"
    },
    "papermill": {
     "duration": 0.326755,
     "end_time": "2023-11-09T16:37:33.446508",
     "exception": false,
     "start_time": "2023-11-09T16:37:33.119753",
     "status": "completed"
    },
    "tags": []
   },
   "outputs": [
    {
     "name": "stdout",
     "output_type": "stream",
     "text": [
      "<class 'pandas.core.frame.DataFrame'>\n",
      "RangeIndex: 271116 entries, 0 to 271115\n",
      "Data columns (total 15 columns):\n",
      " #   Column  Non-Null Count   Dtype  \n",
      "---  ------  --------------   -----  \n",
      " 0   ID      271116 non-null  int64  \n",
      " 1   Name    271116 non-null  object \n",
      " 2   Sex     271116 non-null  object \n",
      " 3   Age     261642 non-null  float64\n",
      " 4   Height  210945 non-null  float64\n",
      " 5   Weight  208241 non-null  float64\n",
      " 6   Team    271116 non-null  object \n",
      " 7   NOC     271116 non-null  object \n",
      " 8   Games   271116 non-null  object \n",
      " 9   Year    271116 non-null  int64  \n",
      " 10  Season  271116 non-null  object \n",
      " 11  City    271116 non-null  object \n",
      " 12  Sport   271116 non-null  object \n",
      " 13  Event   271116 non-null  object \n",
      " 14  Medal   39783 non-null   object \n",
      "dtypes: float64(3), int64(2), object(10)\n",
      "memory usage: 31.0+ MB\n"
     ]
    }
   ],
   "source": [
    "data.info()\n",
    "#Showing the columns names and his types"
   ]
  },
  {
   "cell_type": "markdown",
   "id": "acb42d56",
   "metadata": {
    "papermill": {
     "duration": 0.019167,
     "end_time": "2023-11-09T16:37:33.484461",
     "exception": false,
     "start_time": "2023-11-09T16:37:33.465294",
     "status": "completed"
    },
    "tags": []
   },
   "source": [
    "### As we can see there are some colums with different number of rows, so we have to manage this missing values."
   ]
  },
  {
   "cell_type": "code",
   "execution_count": 5,
   "id": "01269d79",
   "metadata": {
    "execution": {
     "iopub.execute_input": "2023-11-09T16:37:33.525899Z",
     "iopub.status.busy": "2023-11-09T16:37:33.525470Z",
     "iopub.status.idle": "2023-11-09T16:37:33.633331Z",
     "shell.execute_reply": "2023-11-09T16:37:33.631893Z"
    },
    "papermill": {
     "duration": 0.131664,
     "end_time": "2023-11-09T16:37:33.636210",
     "exception": false,
     "start_time": "2023-11-09T16:37:33.504546",
     "status": "completed"
    },
    "tags": []
   },
   "outputs": [
    {
     "data": {
      "text/html": [
       "<div>\n",
       "<style scoped>\n",
       "    .dataframe tbody tr th:only-of-type {\n",
       "        vertical-align: middle;\n",
       "    }\n",
       "\n",
       "    .dataframe tbody tr th {\n",
       "        vertical-align: top;\n",
       "    }\n",
       "\n",
       "    .dataframe thead th {\n",
       "        text-align: right;\n",
       "    }\n",
       "</style>\n",
       "<table border=\"1\" class=\"dataframe\">\n",
       "  <thead>\n",
       "    <tr style=\"text-align: right;\">\n",
       "      <th></th>\n",
       "      <th>ID</th>\n",
       "      <th>Age</th>\n",
       "      <th>Height</th>\n",
       "      <th>Weight</th>\n",
       "      <th>Year</th>\n",
       "    </tr>\n",
       "  </thead>\n",
       "  <tbody>\n",
       "    <tr>\n",
       "      <th>count</th>\n",
       "      <td>271116.000000</td>\n",
       "      <td>261642.000000</td>\n",
       "      <td>210945.000000</td>\n",
       "      <td>208241.000000</td>\n",
       "      <td>271116.000000</td>\n",
       "    </tr>\n",
       "    <tr>\n",
       "      <th>mean</th>\n",
       "      <td>68248.954396</td>\n",
       "      <td>25.556898</td>\n",
       "      <td>175.338970</td>\n",
       "      <td>70.702393</td>\n",
       "      <td>1978.378480</td>\n",
       "    </tr>\n",
       "    <tr>\n",
       "      <th>std</th>\n",
       "      <td>39022.286345</td>\n",
       "      <td>6.393561</td>\n",
       "      <td>10.518462</td>\n",
       "      <td>14.348020</td>\n",
       "      <td>29.877632</td>\n",
       "    </tr>\n",
       "    <tr>\n",
       "      <th>min</th>\n",
       "      <td>1.000000</td>\n",
       "      <td>10.000000</td>\n",
       "      <td>127.000000</td>\n",
       "      <td>25.000000</td>\n",
       "      <td>1896.000000</td>\n",
       "    </tr>\n",
       "    <tr>\n",
       "      <th>25%</th>\n",
       "      <td>34643.000000</td>\n",
       "      <td>21.000000</td>\n",
       "      <td>168.000000</td>\n",
       "      <td>60.000000</td>\n",
       "      <td>1960.000000</td>\n",
       "    </tr>\n",
       "    <tr>\n",
       "      <th>50%</th>\n",
       "      <td>68205.000000</td>\n",
       "      <td>24.000000</td>\n",
       "      <td>175.000000</td>\n",
       "      <td>70.000000</td>\n",
       "      <td>1988.000000</td>\n",
       "    </tr>\n",
       "    <tr>\n",
       "      <th>75%</th>\n",
       "      <td>102097.250000</td>\n",
       "      <td>28.000000</td>\n",
       "      <td>183.000000</td>\n",
       "      <td>79.000000</td>\n",
       "      <td>2002.000000</td>\n",
       "    </tr>\n",
       "    <tr>\n",
       "      <th>max</th>\n",
       "      <td>135571.000000</td>\n",
       "      <td>97.000000</td>\n",
       "      <td>226.000000</td>\n",
       "      <td>214.000000</td>\n",
       "      <td>2016.000000</td>\n",
       "    </tr>\n",
       "  </tbody>\n",
       "</table>\n",
       "</div>"
      ],
      "text/plain": [
       "                  ID            Age         Height         Weight  \\\n",
       "count  271116.000000  261642.000000  210945.000000  208241.000000   \n",
       "mean    68248.954396      25.556898     175.338970      70.702393   \n",
       "std     39022.286345       6.393561      10.518462      14.348020   \n",
       "min         1.000000      10.000000     127.000000      25.000000   \n",
       "25%     34643.000000      21.000000     168.000000      60.000000   \n",
       "50%     68205.000000      24.000000     175.000000      70.000000   \n",
       "75%    102097.250000      28.000000     183.000000      79.000000   \n",
       "max    135571.000000      97.000000     226.000000     214.000000   \n",
       "\n",
       "                Year  \n",
       "count  271116.000000  \n",
       "mean     1978.378480  \n",
       "std        29.877632  \n",
       "min      1896.000000  \n",
       "25%      1960.000000  \n",
       "50%      1988.000000  \n",
       "75%      2002.000000  \n",
       "max      2016.000000  "
      ]
     },
     "execution_count": 5,
     "metadata": {},
     "output_type": "execute_result"
    }
   ],
   "source": [
    "data.describe()\n",
    "#Showing some statistical values of the data"
   ]
  },
  {
   "cell_type": "markdown",
   "id": "0607322f",
   "metadata": {
    "papermill": {
     "duration": 0.018018,
     "end_time": "2023-11-09T16:37:33.672367",
     "exception": false,
     "start_time": "2023-11-09T16:37:33.654349",
     "status": "completed"
    },
    "tags": []
   },
   "source": [
    "# 3. Data cleaning:"
   ]
  },
  {
   "cell_type": "markdown",
   "id": "de564a5f",
   "metadata": {
    "papermill": {
     "duration": 0.085021,
     "end_time": "2023-11-09T16:37:33.776865",
     "exception": false,
     "start_time": "2023-11-09T16:37:33.691844",
     "status": "completed"
    },
    "tags": []
   },
   "source": [
    "### If we want to fill in the missing values ​​with the mean, we must first verify that the data follow a normal distribution."
   ]
  },
  {
   "cell_type": "code",
   "execution_count": 6,
   "id": "ed89aa90",
   "metadata": {
    "execution": {
     "iopub.execute_input": "2023-11-09T16:37:33.815870Z",
     "iopub.status.busy": "2023-11-09T16:37:33.814911Z",
     "iopub.status.idle": "2023-11-09T16:37:35.830440Z",
     "shell.execute_reply": "2023-11-09T16:37:35.829158Z"
    },
    "papermill": {
     "duration": 2.038368,
     "end_time": "2023-11-09T16:37:35.833370",
     "exception": false,
     "start_time": "2023-11-09T16:37:33.795002",
     "status": "completed"
    },
    "tags": []
   },
   "outputs": [],
   "source": [
    "#Importing Matplotlib and Seaborn to create the visualizations\n",
    "import matplotlib.pyplot as plt\n",
    "import seaborn as sns"
   ]
  },
  {
   "cell_type": "code",
   "execution_count": 7,
   "id": "bc74351c",
   "metadata": {
    "execution": {
     "iopub.execute_input": "2023-11-09T16:37:35.871823Z",
     "iopub.status.busy": "2023-11-09T16:37:35.871152Z",
     "iopub.status.idle": "2023-11-09T16:37:36.570252Z",
     "shell.execute_reply": "2023-11-09T16:37:36.569002Z"
    },
    "papermill": {
     "duration": 0.721405,
     "end_time": "2023-11-09T16:37:36.572883",
     "exception": false,
     "start_time": "2023-11-09T16:37:35.851478",
     "status": "completed"
    },
    "tags": []
   },
   "outputs": [
    {
     "data": {
      "text/plain": [
       "Text(0.5, 1.0, 'Age Distribution')"
      ]
     },
     "execution_count": 7,
     "metadata": {},
     "output_type": "execute_result"
    },
    {
     "data": {
      "image/png": "[encoded data removed]",
      "text/plain": [
       "<Figure size 640x480 with 1 Axes>"
      ]
     },
     "metadata": {},
     "output_type": "display_data"
    }
   ],
   "source": [
    "#Age distribution\n",
    "age_dist = sns.histplot(data=data, x='Age', bins=50)\n",
    "age_dist.set_title('Age Distribution')"
   ]
  },
  {
   "cell_type": "code",
   "execution_count": 8,
   "id": "91488132",
   "metadata": {
    "execution": {
     "iopub.execute_input": "2023-11-09T16:37:36.621880Z",
     "iopub.status.busy": "2023-11-09T16:37:36.617648Z",
     "iopub.status.idle": "2023-11-09T16:37:37.281144Z",
     "shell.execute_reply": "2023-11-09T16:37:37.279722Z"
    },
    "papermill": {
     "duration": 0.692251,
     "end_time": "2023-11-09T16:37:37.284050",
     "exception": false,
     "start_time": "2023-11-09T16:37:36.591799",
     "status": "completed"
    },
    "tags": []
   },
   "outputs": [
    {
     "data": {
      "text/plain": [
       "Text(0.5, 1.0, 'Height Distribution')"
      ]
     },
     "execution_count": 8,
     "metadata": {},
     "output_type": "execute_result"
    },
    {
     "data": {
      "image/png": "[encoded data removed]",
      "text/plain": [
       "<Figure size 640x480 with 1 Axes>"
      ]
     },
     "metadata": {},
     "output_type": "display_data"
    }
   ],
   "source": [
    "#Height distribution\n",
    "height_dist = sns.histplot(data=data, x='Height', bins=50)\n",
    "height_dist.set_title('Height Distribution')"
   ]
  },
  {
   "cell_type": "code",
   "execution_count": 9,
   "id": "91167c33",
   "metadata": {
    "execution": {
     "iopub.execute_input": "2023-11-09T16:37:37.331265Z",
     "iopub.status.busy": "2023-11-09T16:37:37.330864Z",
     "iopub.status.idle": "2023-11-09T16:37:37.921408Z",
     "shell.execute_reply": "2023-11-09T16:37:37.920163Z"
    },
    "papermill": {
     "duration": 0.615744,
     "end_time": "2023-11-09T16:37:37.924687",
     "exception": false,
     "start_time": "2023-11-09T16:37:37.308943",
     "status": "completed"
    },
    "tags": []
   },
   "outputs": [
    {
     "data": {
      "text/plain": [
       "Text(0.5, 1.0, 'Weight Distribution')"
      ]
     },
     "execution_count": 9,
     "metadata": {},
     "output_type": "execute_result"
    },
    {
     "data": {
      "image/png": "[encoded data removed]",
      "text/plain": [
       "<Figure size 640x480 with 1 Axes>"
      ]
     },
     "metadata": {},
     "output_type": "display_data"
    }
   ],
   "source": [
    "#Weight distribution\n",
    "weight_dist = sns.histplot(data=data, x='Weight', bins=50)\n",
    "weight_dist.set_title('Weight Distribution')"
   ]
  },
  {
   "cell_type": "markdown",
   "id": "e29f4fb0",
   "metadata": {
    "papermill": {
     "duration": 0.02094,
     "end_time": "2023-11-09T16:37:37.966575",
     "exception": false,
     "start_time": "2023-11-09T16:37:37.945635",
     "status": "completed"
    },
    "tags": []
   },
   "source": [
    "## The 'Age', 'Height' and 'Weight' colums are normal distributed so we can fill the missing values with the mean."
   ]
  },
  {
   "cell_type": "code",
   "execution_count": 10,
   "id": "345d8bd0",
   "metadata": {
    "execution": {
     "iopub.execute_input": "2023-11-09T16:37:38.011908Z",
     "iopub.status.busy": "2023-11-09T16:37:38.011421Z",
     "iopub.status.idle": "2023-11-09T16:37:38.036064Z",
     "shell.execute_reply": "2023-11-09T16:37:38.035176Z"
    },
    "papermill": {
     "duration": 0.051561,
     "end_time": "2023-11-09T16:37:38.038724",
     "exception": false,
     "start_time": "2023-11-09T16:37:37.987163",
     "status": "completed"
    },
    "tags": []
   },
   "outputs": [
    {
     "data": {
      "text/html": [
       "<div>\n",
       "<style scoped>\n",
       "    .dataframe tbody tr th:only-of-type {\n",
       "        vertical-align: middle;\n",
       "    }\n",
       "\n",
       "    .dataframe tbody tr th {\n",
       "        vertical-align: top;\n",
       "    }\n",
       "\n",
       "    .dataframe thead th {\n",
       "        text-align: right;\n",
       "    }\n",
       "</style>\n",
       "<table border=\"1\" class=\"dataframe\">\n",
       "  <thead>\n",
       "    <tr style=\"text-align: right;\">\n",
       "      <th></th>\n",
       "      <th>ID</th>\n",
       "      <th>Age</th>\n",
       "      <th>Height</th>\n",
       "      <th>Weight</th>\n",
       "      <th>Year</th>\n",
       "    </tr>\n",
       "  </thead>\n",
       "  <tbody>\n",
       "    <tr>\n",
       "      <th>0</th>\n",
       "      <td>1</td>\n",
       "      <td>24.0</td>\n",
       "      <td>180.0</td>\n",
       "      <td>80.0</td>\n",
       "      <td>1992</td>\n",
       "    </tr>\n",
       "    <tr>\n",
       "      <th>1</th>\n",
       "      <td>2</td>\n",
       "      <td>23.0</td>\n",
       "      <td>170.0</td>\n",
       "      <td>60.0</td>\n",
       "      <td>2012</td>\n",
       "    </tr>\n",
       "    <tr>\n",
       "      <th>2</th>\n",
       "      <td>3</td>\n",
       "      <td>24.0</td>\n",
       "      <td>NaN</td>\n",
       "      <td>NaN</td>\n",
       "      <td>1920</td>\n",
       "    </tr>\n",
       "    <tr>\n",
       "      <th>3</th>\n",
       "      <td>4</td>\n",
       "      <td>34.0</td>\n",
       "      <td>NaN</td>\n",
       "      <td>NaN</td>\n",
       "      <td>1900</td>\n",
       "    </tr>\n",
       "    <tr>\n",
       "      <th>4</th>\n",
       "      <td>5</td>\n",
       "      <td>21.0</td>\n",
       "      <td>185.0</td>\n",
       "      <td>82.0</td>\n",
       "      <td>1988</td>\n",
       "    </tr>\n",
       "    <tr>\n",
       "      <th>...</th>\n",
       "      <td>...</td>\n",
       "      <td>...</td>\n",
       "      <td>...</td>\n",
       "      <td>...</td>\n",
       "      <td>...</td>\n",
       "    </tr>\n",
       "    <tr>\n",
       "      <th>271111</th>\n",
       "      <td>135569</td>\n",
       "      <td>29.0</td>\n",
       "      <td>179.0</td>\n",
       "      <td>89.0</td>\n",
       "      <td>1976</td>\n",
       "    </tr>\n",
       "    <tr>\n",
       "      <th>271112</th>\n",
       "      <td>135570</td>\n",
       "      <td>27.0</td>\n",
       "      <td>176.0</td>\n",
       "      <td>59.0</td>\n",
       "      <td>2014</td>\n",
       "    </tr>\n",
       "    <tr>\n",
       "      <th>271113</th>\n",
       "      <td>135570</td>\n",
       "      <td>27.0</td>\n",
       "      <td>176.0</td>\n",
       "      <td>59.0</td>\n",
       "      <td>2014</td>\n",
       "    </tr>\n",
       "    <tr>\n",
       "      <th>271114</th>\n",
       "      <td>135571</td>\n",
       "      <td>30.0</td>\n",
       "      <td>185.0</td>\n",
       "      <td>96.0</td>\n",
       "      <td>1998</td>\n",
       "    </tr>\n",
       "    <tr>\n",
       "      <th>271115</th>\n",
       "      <td>135571</td>\n",
       "      <td>34.0</td>\n",
       "      <td>185.0</td>\n",
       "      <td>96.0</td>\n",
       "      <td>2002</td>\n",
       "    </tr>\n",
       "  </tbody>\n",
       "</table>\n",
       "<p>271116 rows × 5 columns</p>\n",
       "</div>"
      ],
      "text/plain": [
       "            ID   Age  Height  Weight  Year\n",
       "0            1  24.0   180.0    80.0  1992\n",
       "1            2  23.0   170.0    60.0  2012\n",
       "2            3  24.0     NaN     NaN  1920\n",
       "3            4  34.0     NaN     NaN  1900\n",
       "4            5  21.0   185.0    82.0  1988\n",
       "...        ...   ...     ...     ...   ...\n",
       "271111  135569  29.0   179.0    89.0  1976\n",
       "271112  135570  27.0   176.0    59.0  2014\n",
       "271113  135570  27.0   176.0    59.0  2014\n",
       "271114  135571  30.0   185.0    96.0  1998\n",
       "271115  135571  34.0   185.0    96.0  2002\n",
       "\n",
       "[271116 rows x 5 columns]"
      ]
     },
     "execution_count": 10,
     "metadata": {},
     "output_type": "execute_result"
    }
   ],
   "source": [
    "#Selecting only the numeric columns where the missing values are\n",
    "numeric_columns = data.select_dtypes(include = ['number'])\n",
    "numeric_columns"
   ]
  },
  {
   "cell_type": "code",
   "execution_count": 11,
   "id": "a1bbd947",
   "metadata": {
    "execution": {
     "iopub.execute_input": "2023-11-09T16:37:38.082964Z",
     "iopub.status.busy": "2023-11-09T16:37:38.082533Z",
     "iopub.status.idle": "2023-11-09T16:37:38.109155Z",
     "shell.execute_reply": "2023-11-09T16:37:38.107895Z"
    },
    "papermill": {
     "duration": 0.051893,
     "end_time": "2023-11-09T16:37:38.112137",
     "exception": false,
     "start_time": "2023-11-09T16:37:38.060244",
     "status": "completed"
    },
    "tags": []
   },
   "outputs": [],
   "source": [
    "#Filling the missing values with the mean\n",
    "for column in numeric_columns.columns:\n",
    "    data[column] = data[column].fillna(data[column].mean())\n",
    "    "
   ]
  },
  {
   "cell_type": "code",
   "execution_count": 12,
   "id": "5afe33e9",
   "metadata": {
    "execution": {
     "iopub.execute_input": "2023-11-09T16:37:38.156324Z",
     "iopub.status.busy": "2023-11-09T16:37:38.155879Z",
     "iopub.status.idle": "2023-11-09T16:37:38.444267Z",
     "shell.execute_reply": "2023-11-09T16:37:38.443140Z"
    },
    "papermill": {
     "duration": 0.314195,
     "end_time": "2023-11-09T16:37:38.447186",
     "exception": false,
     "start_time": "2023-11-09T16:37:38.132991",
     "status": "completed"
    },
    "tags": []
   },
   "outputs": [
    {
     "name": "stdout",
     "output_type": "stream",
     "text": [
      "<class 'pandas.core.frame.DataFrame'>\n",
      "RangeIndex: 271116 entries, 0 to 271115\n",
      "Data columns (total 15 columns):\n",
      " #   Column  Non-Null Count   Dtype  \n",
      "---  ------  --------------   -----  \n",
      " 0   ID      271116 non-null  int64  \n",
      " 1   Name    271116 non-null  object \n",
      " 2   Sex     271116 non-null  object \n",
      " 3   Age     271116 non-null  float64\n",
      " 4   Height  271116 non-null  float64\n",
      " 5   Weight  271116 non-null  float64\n",
      " 6   Team    271116 non-null  object \n",
      " 7   NOC     271116 non-null  object \n",
      " 8   Games   271116 non-null  object \n",
      " 9   Year    271116 non-null  int64  \n",
      " 10  Season  271116 non-null  object \n",
      " 11  City    271116 non-null  object \n",
      " 12  Sport   271116 non-null  object \n",
      " 13  Event   271116 non-null  object \n",
      " 14  Medal   39783 non-null   object \n",
      "dtypes: float64(3), int64(2), object(10)\n",
      "memory usage: 31.0+ MB\n"
     ]
    }
   ],
   "source": [
    "data.info()\n",
    "#Now we have the same number of rows in the columns 'Age', 'Height' and 'Weight'"
   ]
  },
  {
   "cell_type": "code",
   "execution_count": 13,
   "id": "a165e2a9",
   "metadata": {
    "execution": {
     "iopub.execute_input": "2023-11-09T16:37:38.490692Z",
     "iopub.status.busy": "2023-11-09T16:37:38.490292Z",
     "iopub.status.idle": "2023-11-09T16:37:38.518422Z",
     "shell.execute_reply": "2023-11-09T16:37:38.517269Z"
    },
    "papermill": {
     "duration": 0.053407,
     "end_time": "2023-11-09T16:37:38.521448",
     "exception": false,
     "start_time": "2023-11-09T16:37:38.468041",
     "status": "completed"
    },
    "tags": []
   },
   "outputs": [],
   "source": [
    "#Filling the missing values in the 'Medal' column witn the text 'No Medal'\n",
    "data['Medal'] = data['Medal'].fillna(' No Medal')"
   ]
  },
  {
   "cell_type": "code",
   "execution_count": 14,
   "id": "ffc2283a",
   "metadata": {
    "execution": {
     "iopub.execute_input": "2023-11-09T16:37:38.564233Z",
     "iopub.status.busy": "2023-11-09T16:37:38.563821Z",
     "iopub.status.idle": "2023-11-09T16:37:38.856736Z",
     "shell.execute_reply": "2023-11-09T16:37:38.855083Z"
    },
    "papermill": {
     "duration": 0.317478,
     "end_time": "2023-11-09T16:37:38.859341",
     "exception": false,
     "start_time": "2023-11-09T16:37:38.541863",
     "status": "completed"
    },
    "tags": []
   },
   "outputs": [
    {
     "name": "stdout",
     "output_type": "stream",
     "text": [
      "<class 'pandas.core.frame.DataFrame'>\n",
      "RangeIndex: 271116 entries, 0 to 271115\n",
      "Data columns (total 15 columns):\n",
      " #   Column  Non-Null Count   Dtype  \n",
      "---  ------  --------------   -----  \n",
      " 0   ID      271116 non-null  int64  \n",
      " 1   Name    271116 non-null  object \n",
      " 2   Sex     271116 non-null  object \n",
      " 3   Age     271116 non-null  float64\n",
      " 4   Height  271116 non-null  float64\n",
      " 5   Weight  271116 non-null  float64\n",
      " 6   Team    271116 non-null  object \n",
      " 7   NOC     271116 non-null  object \n",
      " 8   Games   271116 non-null  object \n",
      " 9   Year    271116 non-null  int64  \n",
      " 10  Season  271116 non-null  object \n",
      " 11  City    271116 non-null  object \n",
      " 12  Sport   271116 non-null  object \n",
      " 13  Event   271116 non-null  object \n",
      " 14  Medal   271116 non-null  object \n",
      "dtypes: float64(3), int64(2), object(10)\n",
      "memory usage: 31.0+ MB\n"
     ]
    }
   ],
   "source": [
    "data.info()\n",
    "#All columns have the same number of rows now"
   ]
  },
  {
   "cell_type": "code",
   "execution_count": 15,
   "id": "edd01d41",
   "metadata": {
    "execution": {
     "iopub.execute_input": "2023-11-09T16:37:38.903479Z",
     "iopub.status.busy": "2023-11-09T16:37:38.903071Z",
     "iopub.status.idle": "2023-11-09T16:37:38.926918Z",
     "shell.execute_reply": "2023-11-09T16:37:38.925590Z"
    },
    "papermill": {
     "duration": 0.049147,
     "end_time": "2023-11-09T16:37:38.929595",
     "exception": false,
     "start_time": "2023-11-09T16:37:38.880448",
     "status": "completed"
    },
    "tags": []
   },
   "outputs": [
    {
     "data": {
      "text/html": [
       "<div>\n",
       "<style scoped>\n",
       "    .dataframe tbody tr th:only-of-type {\n",
       "        vertical-align: middle;\n",
       "    }\n",
       "\n",
       "    .dataframe tbody tr th {\n",
       "        vertical-align: top;\n",
       "    }\n",
       "\n",
       "    .dataframe thead th {\n",
       "        text-align: right;\n",
       "    }\n",
       "</style>\n",
       "<table border=\"1\" class=\"dataframe\">\n",
       "  <thead>\n",
       "    <tr style=\"text-align: right;\">\n",
       "      <th></th>\n",
       "      <th>ID</th>\n",
       "      <th>Name</th>\n",
       "      <th>Sex</th>\n",
       "      <th>Age</th>\n",
       "      <th>Height</th>\n",
       "      <th>Weight</th>\n",
       "      <th>Team</th>\n",
       "      <th>NOC</th>\n",
       "      <th>Games</th>\n",
       "      <th>Year</th>\n",
       "      <th>Season</th>\n",
       "      <th>City</th>\n",
       "      <th>Sport</th>\n",
       "      <th>Event</th>\n",
       "      <th>Medal</th>\n",
       "    </tr>\n",
       "  </thead>\n",
       "  <tbody>\n",
       "    <tr>\n",
       "      <th>0</th>\n",
       "      <td>1</td>\n",
       "      <td>A Dijiang</td>\n",
       "      <td>M</td>\n",
       "      <td>24.0</td>\n",
       "      <td>180.00000</td>\n",
       "      <td>80.000000</td>\n",
       "      <td>China</td>\n",
       "      <td>CHN</td>\n",
       "      <td>1992 Summer</td>\n",
       "      <td>1992</td>\n",
       "      <td>Summer</td>\n",
       "      <td>Barcelona</td>\n",
       "      <td>Basketball</td>\n",
       "      <td>Basketball Men's Basketball</td>\n",
       "      <td>No Medal</td>\n",
       "    </tr>\n",
       "    <tr>\n",
       "      <th>1</th>\n",
       "      <td>2</td>\n",
       "      <td>A Lamusi</td>\n",
       "      <td>M</td>\n",
       "      <td>23.0</td>\n",
       "      <td>170.00000</td>\n",
       "      <td>60.000000</td>\n",
       "      <td>China</td>\n",
       "      <td>CHN</td>\n",
       "      <td>2012 Summer</td>\n",
       "      <td>2012</td>\n",
       "      <td>Summer</td>\n",
       "      <td>London</td>\n",
       "      <td>Judo</td>\n",
       "      <td>Judo Men's Extra-Lightweight</td>\n",
       "      <td>No Medal</td>\n",
       "    </tr>\n",
       "    <tr>\n",
       "      <th>2</th>\n",
       "      <td>3</td>\n",
       "      <td>Gunnar Nielsen Aaby</td>\n",
       "      <td>M</td>\n",
       "      <td>24.0</td>\n",
       "      <td>175.33897</td>\n",
       "      <td>70.702393</td>\n",
       "      <td>Denmark</td>\n",
       "      <td>DEN</td>\n",
       "      <td>1920 Summer</td>\n",
       "      <td>1920</td>\n",
       "      <td>Summer</td>\n",
       "      <td>Antwerpen</td>\n",
       "      <td>Football</td>\n",
       "      <td>Football Men's Football</td>\n",
       "      <td>No Medal</td>\n",
       "    </tr>\n",
       "    <tr>\n",
       "      <th>3</th>\n",
       "      <td>4</td>\n",
       "      <td>Edgar Lindenau Aabye</td>\n",
       "      <td>M</td>\n",
       "      <td>34.0</td>\n",
       "      <td>175.33897</td>\n",
       "      <td>70.702393</td>\n",
       "      <td>Denmark/Sweden</td>\n",
       "      <td>DEN</td>\n",
       "      <td>1900 Summer</td>\n",
       "      <td>1900</td>\n",
       "      <td>Summer</td>\n",
       "      <td>Paris</td>\n",
       "      <td>Tug-Of-War</td>\n",
       "      <td>Tug-Of-War Men's Tug-Of-War</td>\n",
       "      <td>Gold</td>\n",
       "    </tr>\n",
       "    <tr>\n",
       "      <th>4</th>\n",
       "      <td>5</td>\n",
       "      <td>Christine Jacoba Aaftink</td>\n",
       "      <td>F</td>\n",
       "      <td>21.0</td>\n",
       "      <td>185.00000</td>\n",
       "      <td>82.000000</td>\n",
       "      <td>Netherlands</td>\n",
       "      <td>NED</td>\n",
       "      <td>1988 Winter</td>\n",
       "      <td>1988</td>\n",
       "      <td>Winter</td>\n",
       "      <td>Calgary</td>\n",
       "      <td>Speed Skating</td>\n",
       "      <td>Speed Skating Women's 500 metres</td>\n",
       "      <td>No Medal</td>\n",
       "    </tr>\n",
       "  </tbody>\n",
       "</table>\n",
       "</div>"
      ],
      "text/plain": [
       "   ID                      Name Sex   Age     Height     Weight  \\\n",
       "0   1                 A Dijiang   M  24.0  180.00000  80.000000   \n",
       "1   2                  A Lamusi   M  23.0  170.00000  60.000000   \n",
       "2   3       Gunnar Nielsen Aaby   M  24.0  175.33897  70.702393   \n",
       "3   4      Edgar Lindenau Aabye   M  34.0  175.33897  70.702393   \n",
       "4   5  Christine Jacoba Aaftink   F  21.0  185.00000  82.000000   \n",
       "\n",
       "             Team  NOC        Games  Year  Season       City          Sport  \\\n",
       "0           China  CHN  1992 Summer  1992  Summer  Barcelona     Basketball   \n",
       "1           China  CHN  2012 Summer  2012  Summer     London           Judo   \n",
       "2         Denmark  DEN  1920 Summer  1920  Summer  Antwerpen       Football   \n",
       "3  Denmark/Sweden  DEN  1900 Summer  1900  Summer      Paris     Tug-Of-War   \n",
       "4     Netherlands  NED  1988 Winter  1988  Winter    Calgary  Speed Skating   \n",
       "\n",
       "                              Event      Medal  \n",
       "0       Basketball Men's Basketball   No Medal  \n",
       "1      Judo Men's Extra-Lightweight   No Medal  \n",
       "2           Football Men's Football   No Medal  \n",
       "3       Tug-Of-War Men's Tug-Of-War       Gold  \n",
       "4  Speed Skating Women's 500 metres   No Medal  "
      ]
     },
     "execution_count": 15,
     "metadata": {},
     "output_type": "execute_result"
    }
   ],
   "source": [
    "#All data cleaned\n",
    "data.head()"
   ]
  },
  {
   "cell_type": "markdown",
   "id": "8c5c93bd",
   "metadata": {
    "papermill": {
     "duration": 0.020529,
     "end_time": "2023-11-09T16:37:38.971143",
     "exception": false,
     "start_time": "2023-11-09T16:37:38.950614",
     "status": "completed"
    },
    "tags": []
   },
   "source": [
    "# 4. Univariate data visualizations:"
   ]
  },
  {
   "cell_type": "code",
   "execution_count": 16,
   "id": "79d30a88",
   "metadata": {
    "execution": {
     "iopub.execute_input": "2023-11-09T16:37:39.014748Z",
     "iopub.status.busy": "2023-11-09T16:37:39.014342Z",
     "iopub.status.idle": "2023-11-09T16:37:39.200273Z",
     "shell.execute_reply": "2023-11-09T16:37:39.199043Z"
    },
    "papermill": {
     "duration": 0.211189,
     "end_time": "2023-11-09T16:37:39.203136",
     "exception": false,
     "start_time": "2023-11-09T16:37:38.991947",
     "status": "completed"
    },
    "tags": []
   },
   "outputs": [
    {
     "data": {
      "image/png": "[encoded data removed]",
      "text/plain": [
       "<Figure size 1000x600 with 1 Axes>"
      ]
     },
     "metadata": {},
     "output_type": "display_data"
    }
   ],
   "source": [
    "#We have already seen the age distribution with a histogram before, but with a box plot we can appreciate the outliers more precisely.\n",
    "plt.figure(figsize=(10, 6))\n",
    "sns.boxplot(x=data['Age'])\n",
    "plt.show()"
   ]
  },
  {
   "cell_type": "code",
   "execution_count": 17,
   "id": "c65f3d94",
   "metadata": {
    "execution": {
     "iopub.execute_input": "2023-11-09T16:37:39.248564Z",
     "iopub.status.busy": "2023-11-09T16:37:39.248150Z",
     "iopub.status.idle": "2023-11-09T16:37:39.270593Z",
     "shell.execute_reply": "2023-11-09T16:37:39.269070Z"
    },
    "papermill": {
     "duration": 0.049221,
     "end_time": "2023-11-09T16:37:39.273606",
     "exception": false,
     "start_time": "2023-11-09T16:37:39.224385",
     "status": "completed"
    },
    "tags": []
   },
   "outputs": [
    {
     "data": {
      "text/plain": [
       "count    271116.000000\n",
       "mean         25.556898\n",
       "std           6.280857\n",
       "min          10.000000\n",
       "25%          22.000000\n",
       "50%          25.000000\n",
       "75%          28.000000\n",
       "max          97.000000\n",
       "Name: Age, dtype: float64"
      ]
     },
     "execution_count": 17,
     "metadata": {},
     "output_type": "execute_result"
    }
   ],
   "source": [
    "#Showing the exact values represented in the box plot\n",
    "data['Age'].describe()"
   ]
  },
  {
   "cell_type": "code",
   "execution_count": 18,
   "id": "ae85b72d",
   "metadata": {
    "execution": {
     "iopub.execute_input": "2023-11-09T16:37:39.319788Z",
     "iopub.status.busy": "2023-11-09T16:37:39.319358Z",
     "iopub.status.idle": "2023-11-09T16:37:39.327233Z",
     "shell.execute_reply": "2023-11-09T16:37:39.326223Z"
    },
    "papermill": {
     "duration": 0.034877,
     "end_time": "2023-11-09T16:37:39.330001",
     "exception": false,
     "start_time": "2023-11-09T16:37:39.295124",
     "status": "completed"
    },
    "tags": []
   },
   "outputs": [
    {
     "data": {
      "text/plain": [
       "'Top limit value: 37.0 Low limit value: 13.0'"
      ]
     },
     "execution_count": 18,
     "metadata": {},
     "output_type": "execute_result"
    }
   ],
   "source": [
    "#Calculate Interquartile Range (IQR) to know Atypical Values\n",
    "#q1 and q2 from describe() method\n",
    "q1 = 22.0\n",
    "q3 = 28.0\n",
    "iqr = q3 - q1\n",
    "top_limit_value = q3 + 1.5*iqr\n",
    "low_limit_value = q1 - 1.5*iqr\n",
    "f\"Top limit value: {top_limit_value} Low limit value: {low_limit_value}\""
   ]
  },
  {
   "cell_type": "code",
   "execution_count": 19,
   "id": "d2215e24",
   "metadata": {
    "execution": {
     "iopub.execute_input": "2023-11-09T16:37:39.375324Z",
     "iopub.status.busy": "2023-11-09T16:37:39.374935Z",
     "iopub.status.idle": "2023-11-09T16:37:39.395290Z",
     "shell.execute_reply": "2023-11-09T16:37:39.394190Z"
    },
    "papermill": {
     "duration": 0.045917,
     "end_time": "2023-11-09T16:37:39.397721",
     "exception": false,
     "start_time": "2023-11-09T16:37:39.351804",
     "status": "completed"
    },
    "tags": []
   },
   "outputs": [
    {
     "data": {
      "text/plain": [
       "Sport\n",
       "Shooting                3178\n",
       "Art Competitions        2226\n",
       "Equestrianism           1997\n",
       "Sailing                 1040\n",
       "Fencing                 1031\n",
       "Athletics                408\n",
       "Archery                  311\n",
       "Bobsleigh                230\n",
       "Gymnastics               167\n",
       "Rowing                   122\n",
       "Cycling                   99\n",
       "Curling                   98\n",
       "Table Tennis              83\n",
       "Cross Country Skiing      81\n",
       "Biathlon                  78\n",
       "Canoeing                  71\n",
       "Tennis                    70\n",
       "Ice Hockey                51\n",
       "Wrestling                 46\n",
       "Golf                      42\n",
       "Weightlifting             42\n",
       "Speed Skating             36\n",
       "Polo                      33\n",
       "Figure Skating            30\n",
       "Handball                  29\n",
       "Name: count, dtype: int64"
      ]
     },
     "execution_count": 19,
     "metadata": {},
     "output_type": "execute_result"
    }
   ],
   "source": [
    "#Count how many athletes are older than the top_limit_value by sport\n",
    "older_athletes = data[data['Age'] > top_limit_value]\n",
    "older_athletes['Sport'].value_counts().head(25)"
   ]
  },
  {
   "cell_type": "markdown",
   "id": "46bf5bf0",
   "metadata": {
    "papermill": {
     "duration": 0.021296,
     "end_time": "2023-11-09T16:37:39.440617",
     "exception": false,
     "start_time": "2023-11-09T16:37:39.419321",
     "status": "completed"
    },
    "tags": []
   },
   "source": [
    "### Looks like the sports with older atlethes are the ones in wich the fisical condition in not the most important skill, but experience is. "
   ]
  },
  {
   "cell_type": "code",
   "execution_count": 20,
   "id": "cae55032",
   "metadata": {
    "execution": {
     "iopub.execute_input": "2023-11-09T16:37:39.486000Z",
     "iopub.status.busy": "2023-11-09T16:37:39.485031Z",
     "iopub.status.idle": "2023-11-09T16:37:39.495985Z",
     "shell.execute_reply": "2023-11-09T16:37:39.494891Z"
    },
    "papermill": {
     "duration": 0.03636,
     "end_time": "2023-11-09T16:37:39.498524",
     "exception": false,
     "start_time": "2023-11-09T16:37:39.462164",
     "status": "completed"
    },
    "tags": []
   },
   "outputs": [
    {
     "data": {
      "text/plain": [
       "Sport\n",
       "Swimming          25\n",
       "Figure Skating    15\n",
       "Rowing             5\n",
       "Gymnastics         5\n",
       "Athletics          2\n",
       "Diving             1\n",
       "Name: count, dtype: int64"
      ]
     },
     "execution_count": 20,
     "metadata": {},
     "output_type": "execute_result"
    }
   ],
   "source": [
    "#Count how many athletes are younger than the low_limit_value by sport\n",
    "youger_athletes = data[data['Age'] < low_limit_value]\n",
    "youger_athletes['Sport'].value_counts()"
   ]
  },
  {
   "cell_type": "markdown",
   "id": "67b08d9d",
   "metadata": {
    "papermill": {
     "duration": 0.021584,
     "end_time": "2023-11-09T16:37:39.543462",
     "exception": false,
     "start_time": "2023-11-09T16:37:39.521878",
     "status": "completed"
    },
    "tags": []
   },
   "source": [
    "### On the other hand, for younger athletes, swimming and figure skating stand out, where it seems that they benefit from their flexibility, resistance and recovery capacity compared to older athletes.\n",
    "### Notice that the number of outliers for older atlethes are too much greater than for the younger ones."
   ]
  },
  {
   "cell_type": "code",
   "execution_count": 21,
   "id": "13fd1665",
   "metadata": {
    "execution": {
     "iopub.execute_input": "2023-11-09T16:37:39.588991Z",
     "iopub.status.busy": "2023-11-09T16:37:39.588544Z",
     "iopub.status.idle": "2023-11-09T16:37:39.741747Z",
     "shell.execute_reply": "2023-11-09T16:37:39.740259Z"
    },
    "papermill": {
     "duration": 0.179374,
     "end_time": "2023-11-09T16:37:39.744741",
     "exception": false,
     "start_time": "2023-11-09T16:37:39.565367",
     "status": "completed"
    },
    "tags": []
   },
   "outputs": [
    {
     "data": {
      "text/plain": [
       "Index(['Name', 'Sex', 'Team', 'NOC', 'Games', 'Season', 'City', 'Sport',\n",
       "       'Event', 'Medal'],\n",
       "      dtype='object')"
      ]
     },
     "execution_count": 21,
     "metadata": {},
     "output_type": "execute_result"
    }
   ],
   "source": [
    "#Selecting only the text columns for a further analysis\n",
    "text_columns = data.select_dtypes(include=['object'])\n",
    "text_columns.columns"
   ]
  },
  {
   "cell_type": "code",
   "execution_count": 22,
   "id": "1dfba93e",
   "metadata": {
    "execution": {
     "iopub.execute_input": "2023-11-09T16:37:39.792080Z",
     "iopub.status.busy": "2023-11-09T16:37:39.790755Z",
     "iopub.status.idle": "2023-11-09T16:37:40.150386Z",
     "shell.execute_reply": "2023-11-09T16:37:40.148954Z"
    },
    "papermill": {
     "duration": 0.386036,
     "end_time": "2023-11-09T16:37:40.153216",
     "exception": false,
     "start_time": "2023-11-09T16:37:39.767180",
     "status": "completed"
    },
    "tags": []
   },
   "outputs": [
    {
     "name": "stdout",
     "output_type": "stream",
     "text": [
      "Sex\n",
      "M    196594\n",
      "F     74522\n",
      "Name: count, dtype: int64\n",
      "\n",
      "Team\n",
      "United States    17847\n",
      "France           11988\n",
      "Great Britain    11404\n",
      "Italy            10260\n",
      "Germany           9326\n",
      "Name: count, dtype: int64\n",
      "\n",
      "Games\n",
      "2000 Summer    13821\n",
      "1996 Summer    13780\n",
      "2016 Summer    13688\n",
      "2008 Summer    13602\n",
      "2004 Summer    13443\n",
      "Name: count, dtype: int64\n",
      "\n",
      "Season\n",
      "Summer    222552\n",
      "Winter     48564\n",
      "Name: count, dtype: int64\n",
      "\n",
      "City\n",
      "London            22426\n",
      "Athina            15556\n",
      "Sydney            13821\n",
      "Atlanta           13780\n",
      "Rio de Janeiro    13688\n",
      "Name: count, dtype: int64\n",
      "\n",
      "Sport\n",
      "Athletics     38624\n",
      "Gymnastics    26707\n",
      "Swimming      23195\n",
      "Shooting      11448\n",
      "Cycling       10859\n",
      "Name: count, dtype: int64\n",
      "\n",
      "Event\n",
      "Football Men's Football        5733\n",
      "Ice Hockey Men's Ice Hockey    4762\n",
      "Hockey Men's Hockey            3958\n",
      "Water Polo Men's Water Polo    3358\n",
      "Basketball Men's Basketball    3280\n",
      "Name: count, dtype: int64\n",
      "\n",
      "Medal\n",
      " No Medal    231333\n",
      "Gold          13372\n",
      "Bronze        13295\n",
      "Silver        13116\n",
      "Name: count, dtype: int64\n",
      "\n"
     ]
    }
   ],
   "source": [
    "#Showing some interesting data by column\n",
    "for column in text_columns.columns:\n",
    "    if column != 'Name' and column != 'NOC': #I am not interested in this two columns for the analysis\n",
    "        print(data[column].value_counts().head())\n",
    "        print()\n"
   ]
  },
  {
   "cell_type": "markdown",
   "id": "714dac3b",
   "metadata": {
    "papermill": {
     "duration": 0.024334,
     "end_time": "2023-11-09T16:37:40.200129",
     "exception": false,
     "start_time": "2023-11-09T16:37:40.175795",
     "status": "completed"
    },
    "tags": []
   },
   "source": [
    "### As we can see Summer Olympic Games are much more popular than Winter Olympic Games.\n",
    "### The United States is the country with the most participating athletes in history, followed by France and Great Britain."
   ]
  },
  {
   "cell_type": "code",
   "execution_count": 23,
   "id": "d9add357",
   "metadata": {
    "execution": {
     "iopub.execute_input": "2023-11-09T16:37:40.247132Z",
     "iopub.status.busy": "2023-11-09T16:37:40.246699Z",
     "iopub.status.idle": "2023-11-09T16:37:40.254948Z",
     "shell.execute_reply": "2023-11-09T16:37:40.253778Z"
    },
    "papermill": {
     "duration": 0.034523,
     "end_time": "2023-11-09T16:37:40.257448",
     "exception": false,
     "start_time": "2023-11-09T16:37:40.222925",
     "status": "completed"
    },
    "tags": []
   },
   "outputs": [
    {
     "data": {
      "text/plain": [
       "17.2"
      ]
     },
     "execution_count": 23,
     "metadata": {},
     "output_type": "execute_result"
    }
   ],
   "source": [
    "# Percentage of athletes who win a medal\n",
    "total_medal_given = 13372 + 13295 + 13116\n",
    "total_athletes = 231333\n",
    "\n",
    "medal_percentage = round((total_medal_given / total_athletes * 100),2)\n",
    "medal_percentage"
   ]
  },
  {
   "cell_type": "markdown",
   "id": "35090d92",
   "metadata": {
    "papermill": {
     "duration": 0.022276,
     "end_time": "2023-11-09T16:37:40.303694",
     "exception": false,
     "start_time": "2023-11-09T16:37:40.281418",
     "status": "completed"
    },
    "tags": []
   },
   "source": [
    "### Only 17,2% of the athletes win a medal.\n",
    "\n",
    "### The differences in Gold, Silver and Bronze medals given can be explained by two facts:\n",
    "#### 1. There have been more ties for the top positions and more gold medals than silver and bronze medals have been awarded in some competitions.\n",
    "#### 2. We do not have all the data for all the medals awarded."
   ]
  },
  {
   "cell_type": "markdown",
   "id": "90696ea9",
   "metadata": {
    "papermill": {
     "duration": 0.023092,
     "end_time": "2023-11-09T16:37:40.350378",
     "exception": false,
     "start_time": "2023-11-09T16:37:40.327286",
     "status": "completed"
    },
    "tags": []
   },
   "source": [
    "# Answers to questions 1, 2 and 3:\n",
    "\n",
    "### 1. How many medals has been given on each category?\n",
    "#### Throughout all editions of the Olympic Games, 13,372 gold, 13,295 silver and 13,116 bronze medals have been awarded.\n",
    "\n",
    "\n",
    "### 2. Witch are the most popular sports in the olympic games?\n",
    "#### The most popular sport in the Olympic Games, if we understand this as the one that most athletes practice in this sporting event, is athletics, followed by gymnastics and swimming.\n",
    "\n",
    "\n",
    "### 3. How many men and women have participated in the olympic games?\n",
    "#### 196,594 men and 74,522 women have participated in the Olympic Games throughout history. \n",
    "#### This wide difference is explained by the fact that although women have participated since the 1900 Paris Olympic Games, there was no female category for all sports until London 2012."
   ]
  },
  {
   "cell_type": "markdown",
   "id": "efb2b137",
   "metadata": {
    "papermill": {
     "duration": 0.022195,
     "end_time": "2023-11-09T16:37:40.395156",
     "exception": false,
     "start_time": "2023-11-09T16:37:40.372961",
     "status": "completed"
    },
    "tags": []
   },
   "source": [
    "# 5. Exploration of relationships:"
   ]
  },
  {
   "cell_type": "markdown",
   "id": "cb258d71",
   "metadata": {
    "papermill": {
     "duration": 0.023464,
     "end_time": "2023-11-09T16:37:40.442260",
     "exception": false,
     "start_time": "2023-11-09T16:37:40.418796",
     "status": "completed"
    },
    "tags": []
   },
   "source": [
    "### By grouping the data we can discover different interesting relationships."
   ]
  },
  {
   "cell_type": "code",
   "execution_count": 24,
   "id": "f4f71cf1",
   "metadata": {
    "execution": {
     "iopub.execute_input": "2023-11-09T16:37:40.491556Z",
     "iopub.status.busy": "2023-11-09T16:37:40.491117Z",
     "iopub.status.idle": "2023-11-09T16:37:40.621698Z",
     "shell.execute_reply": "2023-11-09T16:37:40.620846Z"
    },
    "papermill": {
     "duration": 0.157732,
     "end_time": "2023-11-09T16:37:40.623922",
     "exception": false,
     "start_time": "2023-11-09T16:37:40.466190",
     "status": "completed"
    },
    "tags": []
   },
   "outputs": [
    {
     "data": {
      "text/html": [
       "<div>\n",
       "<style scoped>\n",
       "    .dataframe tbody tr th:only-of-type {\n",
       "        vertical-align: middle;\n",
       "    }\n",
       "\n",
       "    .dataframe tbody tr th {\n",
       "        vertical-align: top;\n",
       "    }\n",
       "\n",
       "    .dataframe thead tr th {\n",
       "        text-align: left;\n",
       "    }\n",
       "\n",
       "    .dataframe thead tr:last-of-type th {\n",
       "        text-align: right;\n",
       "    }\n",
       "</style>\n",
       "<table border=\"1\" class=\"dataframe\">\n",
       "  <thead>\n",
       "    <tr>\n",
       "      <th></th>\n",
       "      <th></th>\n",
       "      <th colspan=\"3\" halign=\"left\">Age</th>\n",
       "      <th colspan=\"3\" halign=\"left\">Height</th>\n",
       "      <th colspan=\"3\" halign=\"left\">Weight</th>\n",
       "    </tr>\n",
       "    <tr>\n",
       "      <th></th>\n",
       "      <th></th>\n",
       "      <th>min</th>\n",
       "      <th>max</th>\n",
       "      <th>mean</th>\n",
       "      <th>min</th>\n",
       "      <th>max</th>\n",
       "      <th>mean</th>\n",
       "      <th>min</th>\n",
       "      <th>max</th>\n",
       "      <th>mean</th>\n",
       "    </tr>\n",
       "    <tr>\n",
       "      <th>Year</th>\n",
       "      <th>Season</th>\n",
       "      <th></th>\n",
       "      <th></th>\n",
       "      <th></th>\n",
       "      <th></th>\n",
       "      <th></th>\n",
       "      <th></th>\n",
       "      <th></th>\n",
       "      <th></th>\n",
       "      <th></th>\n",
       "    </tr>\n",
       "  </thead>\n",
       "  <tbody>\n",
       "    <tr>\n",
       "      <th>1896</th>\n",
       "      <th>Summer</th>\n",
       "      <td>10.0</td>\n",
       "      <td>40.0</td>\n",
       "      <td>24.428354</td>\n",
       "      <td>154.0</td>\n",
       "      <td>188.0</td>\n",
       "      <td>175.024252</td>\n",
       "      <td>45.0</td>\n",
       "      <td>106.0</td>\n",
       "      <td>70.790769</td>\n",
       "    </tr>\n",
       "    <tr>\n",
       "      <th>1900</th>\n",
       "      <th>Summer</th>\n",
       "      <td>13.0</td>\n",
       "      <td>71.0</td>\n",
       "      <td>27.615160</td>\n",
       "      <td>153.0</td>\n",
       "      <td>191.0</td>\n",
       "      <td>175.416800</td>\n",
       "      <td>51.0</td>\n",
       "      <td>102.0</td>\n",
       "      <td>70.859682</td>\n",
       "    </tr>\n",
       "    <tr>\n",
       "      <th>1904</th>\n",
       "      <th>Summer</th>\n",
       "      <td>14.0</td>\n",
       "      <td>71.0</td>\n",
       "      <td>26.457794</td>\n",
       "      <td>155.0</td>\n",
       "      <td>195.0</td>\n",
       "      <td>175.412605</td>\n",
       "      <td>43.0</td>\n",
       "      <td>115.0</td>\n",
       "      <td>70.871300</td>\n",
       "    </tr>\n",
       "    <tr>\n",
       "      <th>1906</th>\n",
       "      <th>Summer</th>\n",
       "      <td>13.0</td>\n",
       "      <td>54.0</td>\n",
       "      <td>26.452842</td>\n",
       "      <td>165.0</td>\n",
       "      <td>196.0</td>\n",
       "      <td>175.764177</td>\n",
       "      <td>52.0</td>\n",
       "      <td>114.0</td>\n",
       "      <td>71.319248</td>\n",
       "    </tr>\n",
       "    <tr>\n",
       "      <th>1908</th>\n",
       "      <th>Summer</th>\n",
       "      <td>14.0</td>\n",
       "      <td>61.0</td>\n",
       "      <td>26.674436</td>\n",
       "      <td>157.0</td>\n",
       "      <td>201.0</td>\n",
       "      <td>175.676599</td>\n",
       "      <td>51.0</td>\n",
       "      <td>115.0</td>\n",
       "      <td>71.431914</td>\n",
       "    </tr>\n",
       "    <tr>\n",
       "      <th>1912</th>\n",
       "      <th>Summer</th>\n",
       "      <td>13.0</td>\n",
       "      <td>67.0</td>\n",
       "      <td>27.462098</td>\n",
       "      <td>157.0</td>\n",
       "      <td>200.0</td>\n",
       "      <td>175.715357</td>\n",
       "      <td>49.0</td>\n",
       "      <td>125.0</td>\n",
       "      <td>71.058674</td>\n",
       "    </tr>\n",
       "    <tr>\n",
       "      <th>1920</th>\n",
       "      <th>Summer</th>\n",
       "      <td>13.0</td>\n",
       "      <td>72.0</td>\n",
       "      <td>28.555820</td>\n",
       "      <td>142.0</td>\n",
       "      <td>197.0</td>\n",
       "      <td>175.412831</td>\n",
       "      <td>48.0</td>\n",
       "      <td>146.0</td>\n",
       "      <td>70.966180</td>\n",
       "    </tr>\n",
       "    <tr>\n",
       "      <th rowspan=\"2\" valign=\"top\">1924</th>\n",
       "      <th>Summer</th>\n",
       "      <td>13.0</td>\n",
       "      <td>81.0</td>\n",
       "      <td>27.849653</td>\n",
       "      <td>142.0</td>\n",
       "      <td>200.0</td>\n",
       "      <td>175.322156</td>\n",
       "      <td>44.0</td>\n",
       "      <td>146.0</td>\n",
       "      <td>70.840009</td>\n",
       "    </tr>\n",
       "    <tr>\n",
       "      <th>Winter</th>\n",
       "      <td>11.0</td>\n",
       "      <td>58.0</td>\n",
       "      <td>27.338572</td>\n",
       "      <td>152.0</td>\n",
       "      <td>191.0</td>\n",
       "      <td>174.734256</td>\n",
       "      <td>45.0</td>\n",
       "      <td>109.0</td>\n",
       "      <td>70.600658</td>\n",
       "    </tr>\n",
       "    <tr>\n",
       "      <th rowspan=\"2\" valign=\"top\">1928</th>\n",
       "      <th>Summer</th>\n",
       "      <td>11.0</td>\n",
       "      <td>97.0</td>\n",
       "      <td>28.740219</td>\n",
       "      <td>147.0</td>\n",
       "      <td>202.0</td>\n",
       "      <td>175.337740</td>\n",
       "      <td>41.0</td>\n",
       "      <td>125.0</td>\n",
       "      <td>70.734524</td>\n",
       "    </tr>\n",
       "    <tr>\n",
       "      <th>Winter</th>\n",
       "      <td>15.0</td>\n",
       "      <td>54.0</td>\n",
       "      <td>26.422888</td>\n",
       "      <td>155.0</td>\n",
       "      <td>211.0</td>\n",
       "      <td>175.053138</td>\n",
       "      <td>45.0</td>\n",
       "      <td>103.0</td>\n",
       "      <td>70.778484</td>\n",
       "    </tr>\n",
       "    <tr>\n",
       "      <th rowspan=\"2\" valign=\"top\">1932</th>\n",
       "      <th>Summer</th>\n",
       "      <td>13.0</td>\n",
       "      <td>96.0</td>\n",
       "      <td>32.635220</td>\n",
       "      <td>147.0</td>\n",
       "      <td>200.0</td>\n",
       "      <td>175.007635</td>\n",
       "      <td>41.0</td>\n",
       "      <td>110.0</td>\n",
       "      <td>70.735002</td>\n",
       "    </tr>\n",
       "    <tr>\n",
       "      <th>Winter</th>\n",
       "      <td>11.0</td>\n",
       "      <td>52.0</td>\n",
       "      <td>25.547752</td>\n",
       "      <td>152.0</td>\n",
       "      <td>193.0</td>\n",
       "      <td>174.278066</td>\n",
       "      <td>45.0</td>\n",
       "      <td>91.0</td>\n",
       "      <td>70.180712</td>\n",
       "    </tr>\n",
       "    <tr>\n",
       "      <th rowspan=\"2\" valign=\"top\">1936</th>\n",
       "      <th>Summer</th>\n",
       "      <td>12.0</td>\n",
       "      <td>74.0</td>\n",
       "      <td>27.806255</td>\n",
       "      <td>147.0</td>\n",
       "      <td>205.0</td>\n",
       "      <td>175.464554</td>\n",
       "      <td>37.0</td>\n",
       "      <td>138.0</td>\n",
       "      <td>70.832046</td>\n",
       "    </tr>\n",
       "    <tr>\n",
       "      <th>Winter</th>\n",
       "      <td>11.0</td>\n",
       "      <td>46.0</td>\n",
       "      <td>25.054889</td>\n",
       "      <td>152.0</td>\n",
       "      <td>189.0</td>\n",
       "      <td>174.938858</td>\n",
       "      <td>45.0</td>\n",
       "      <td>109.0</td>\n",
       "      <td>70.645648</td>\n",
       "    </tr>\n",
       "    <tr>\n",
       "      <th rowspan=\"2\" valign=\"top\">1948</th>\n",
       "      <th>Summer</th>\n",
       "      <td>12.0</td>\n",
       "      <td>84.0</td>\n",
       "      <td>28.618998</td>\n",
       "      <td>140.0</td>\n",
       "      <td>213.0</td>\n",
       "      <td>175.546318</td>\n",
       "      <td>47.0</td>\n",
       "      <td>125.0</td>\n",
       "      <td>70.903722</td>\n",
       "    </tr>\n",
       "    <tr>\n",
       "      <th>Winter</th>\n",
       "      <td>15.0</td>\n",
       "      <td>53.0</td>\n",
       "      <td>26.236491</td>\n",
       "      <td>157.0</td>\n",
       "      <td>193.0</td>\n",
       "      <td>175.010300</td>\n",
       "      <td>48.0</td>\n",
       "      <td>92.0</td>\n",
       "      <td>70.479169</td>\n",
       "    </tr>\n",
       "    <tr>\n",
       "      <th rowspan=\"2\" valign=\"top\">1952</th>\n",
       "      <th>Summer</th>\n",
       "      <td>13.0</td>\n",
       "      <td>65.0</td>\n",
       "      <td>26.235340</td>\n",
       "      <td>150.0</td>\n",
       "      <td>213.0</td>\n",
       "      <td>175.054106</td>\n",
       "      <td>42.0</td>\n",
       "      <td>139.0</td>\n",
       "      <td>70.553000</td>\n",
       "    </tr>\n",
       "    <tr>\n",
       "      <th>Winter</th>\n",
       "      <td>12.0</td>\n",
       "      <td>47.0</td>\n",
       "      <td>25.446691</td>\n",
       "      <td>157.0</td>\n",
       "      <td>196.0</td>\n",
       "      <td>175.090950</td>\n",
       "      <td>48.0</td>\n",
       "      <td>145.0</td>\n",
       "      <td>70.495448</td>\n",
       "    </tr>\n",
       "    <tr>\n",
       "      <th rowspan=\"2\" valign=\"top\">1956</th>\n",
       "      <th>Summer</th>\n",
       "      <td>13.0</td>\n",
       "      <td>67.0</td>\n",
       "      <td>25.976668</td>\n",
       "      <td>148.0</td>\n",
       "      <td>218.0</td>\n",
       "      <td>174.780580</td>\n",
       "      <td>28.0</td>\n",
       "      <td>141.0</td>\n",
       "      <td>70.548171</td>\n",
       "    </tr>\n",
       "    <tr>\n",
       "      <th>Winter</th>\n",
       "      <td>12.0</td>\n",
       "      <td>48.0</td>\n",
       "      <td>25.550055</td>\n",
       "      <td>137.0</td>\n",
       "      <td>199.0</td>\n",
       "      <td>174.574161</td>\n",
       "      <td>36.0</td>\n",
       "      <td>130.0</td>\n",
       "      <td>70.663588</td>\n",
       "    </tr>\n",
       "    <tr>\n",
       "      <th rowspan=\"2\" valign=\"top\">1960</th>\n",
       "      <th>Summer</th>\n",
       "      <td>12.0</td>\n",
       "      <td>65.0</td>\n",
       "      <td>25.305533</td>\n",
       "      <td>146.0</td>\n",
       "      <td>218.0</td>\n",
       "      <td>173.405487</td>\n",
       "      <td>40.0</td>\n",
       "      <td>141.0</td>\n",
       "      <td>69.465373</td>\n",
       "    </tr>\n",
       "    <tr>\n",
       "      <th>Winter</th>\n",
       "      <td>11.0</td>\n",
       "      <td>39.0</td>\n",
       "      <td>24.251304</td>\n",
       "      <td>137.0</td>\n",
       "      <td>191.0</td>\n",
       "      <td>173.111651</td>\n",
       "      <td>36.0</td>\n",
       "      <td>96.0</td>\n",
       "      <td>69.525309</td>\n",
       "    </tr>\n",
       "    <tr>\n",
       "      <th rowspan=\"2\" valign=\"top\">1964</th>\n",
       "      <th>Summer</th>\n",
       "      <td>12.0</td>\n",
       "      <td>60.0</td>\n",
       "      <td>25.068027</td>\n",
       "      <td>137.0</td>\n",
       "      <td>218.0</td>\n",
       "      <td>173.749052</td>\n",
       "      <td>38.0</td>\n",
       "      <td>163.0</td>\n",
       "      <td>69.723353</td>\n",
       "    </tr>\n",
       "    <tr>\n",
       "      <th>Winter</th>\n",
       "      <td>13.0</td>\n",
       "      <td>53.0</td>\n",
       "      <td>24.428144</td>\n",
       "      <td>152.0</td>\n",
       "      <td>193.0</td>\n",
       "      <td>172.871000</td>\n",
       "      <td>46.0</td>\n",
       "      <td>114.0</td>\n",
       "      <td>70.048666</td>\n",
       "    </tr>\n",
       "    <tr>\n",
       "      <th rowspan=\"2\" valign=\"top\">1968</th>\n",
       "      <th>Summer</th>\n",
       "      <td>11.0</td>\n",
       "      <td>68.0</td>\n",
       "      <td>24.270160</td>\n",
       "      <td>127.0</td>\n",
       "      <td>216.0</td>\n",
       "      <td>174.101328</td>\n",
       "      <td>40.0</td>\n",
       "      <td>163.0</td>\n",
       "      <td>69.468587</td>\n",
       "    </tr>\n",
       "    <tr>\n",
       "      <th>Winter</th>\n",
       "      <td>11.0</td>\n",
       "      <td>51.0</td>\n",
       "      <td>24.229287</td>\n",
       "      <td>142.0</td>\n",
       "      <td>200.0</td>\n",
       "      <td>173.352544</td>\n",
       "      <td>34.0</td>\n",
       "      <td>108.0</td>\n",
       "      <td>70.278412</td>\n",
       "    </tr>\n",
       "    <tr>\n",
       "      <th rowspan=\"2\" valign=\"top\">1972</th>\n",
       "      <th>Summer</th>\n",
       "      <td>12.0</td>\n",
       "      <td>69.0</td>\n",
       "      <td>24.352076</td>\n",
       "      <td>130.0</td>\n",
       "      <td>223.0</td>\n",
       "      <td>174.762223</td>\n",
       "      <td>39.0</td>\n",
       "      <td>182.0</td>\n",
       "      <td>70.108899</td>\n",
       "    </tr>\n",
       "    <tr>\n",
       "      <th>Winter</th>\n",
       "      <td>13.0</td>\n",
       "      <td>42.0</td>\n",
       "      <td>24.110375</td>\n",
       "      <td>143.0</td>\n",
       "      <td>201.0</td>\n",
       "      <td>173.480414</td>\n",
       "      <td>38.0</td>\n",
       "      <td>108.0</td>\n",
       "      <td>69.504611</td>\n",
       "    </tr>\n",
       "    <tr>\n",
       "      <th rowspan=\"2\" valign=\"top\">1976</th>\n",
       "      <th>Summer</th>\n",
       "      <td>12.0</td>\n",
       "      <td>70.0</td>\n",
       "      <td>23.871870</td>\n",
       "      <td>136.0</td>\n",
       "      <td>220.0</td>\n",
       "      <td>175.065542</td>\n",
       "      <td>30.0</td>\n",
       "      <td>163.0</td>\n",
       "      <td>70.092724</td>\n",
       "    </tr>\n",
       "    <tr>\n",
       "      <th>Winter</th>\n",
       "      <td>12.0</td>\n",
       "      <td>46.0</td>\n",
       "      <td>23.750202</td>\n",
       "      <td>142.0</td>\n",
       "      <td>200.0</td>\n",
       "      <td>174.444162</td>\n",
       "      <td>40.0</td>\n",
       "      <td>100.0</td>\n",
       "      <td>70.582825</td>\n",
       "    </tr>\n",
       "    <tr>\n",
       "      <th rowspan=\"2\" valign=\"top\">1980</th>\n",
       "      <th>Summer</th>\n",
       "      <td>13.0</td>\n",
       "      <td>70.0</td>\n",
       "      <td>23.752271</td>\n",
       "      <td>131.0</td>\n",
       "      <td>220.0</td>\n",
       "      <td>175.624943</td>\n",
       "      <td>25.0</td>\n",
       "      <td>190.0</td>\n",
       "      <td>70.669147</td>\n",
       "    </tr>\n",
       "    <tr>\n",
       "      <th>Winter</th>\n",
       "      <td>13.0</td>\n",
       "      <td>49.0</td>\n",
       "      <td>23.657249</td>\n",
       "      <td>150.0</td>\n",
       "      <td>200.0</td>\n",
       "      <td>175.062630</td>\n",
       "      <td>38.0</td>\n",
       "      <td>104.0</td>\n",
       "      <td>70.911965</td>\n",
       "    </tr>\n",
       "    <tr>\n",
       "      <th rowspan=\"2\" valign=\"top\">1984</th>\n",
       "      <th>Summer</th>\n",
       "      <td>12.0</td>\n",
       "      <td>60.0</td>\n",
       "      <td>24.036510</td>\n",
       "      <td>132.0</td>\n",
       "      <td>218.0</td>\n",
       "      <td>175.563047</td>\n",
       "      <td>31.0</td>\n",
       "      <td>150.0</td>\n",
       "      <td>70.086959</td>\n",
       "    </tr>\n",
       "    <tr>\n",
       "      <th>Winter</th>\n",
       "      <td>15.0</td>\n",
       "      <td>53.0</td>\n",
       "      <td>23.454136</td>\n",
       "      <td>148.0</td>\n",
       "      <td>200.0</td>\n",
       "      <td>175.385969</td>\n",
       "      <td>40.0</td>\n",
       "      <td>112.0</td>\n",
       "      <td>71.065572</td>\n",
       "    </tr>\n",
       "    <tr>\n",
       "      <th rowspan=\"2\" valign=\"top\">1988</th>\n",
       "      <th>Summer</th>\n",
       "      <td>13.0</td>\n",
       "      <td>70.0</td>\n",
       "      <td>24.144723</td>\n",
       "      <td>127.0</td>\n",
       "      <td>223.0</td>\n",
       "      <td>175.674154</td>\n",
       "      <td>32.0</td>\n",
       "      <td>161.0</td>\n",
       "      <td>70.236463</td>\n",
       "    </tr>\n",
       "    <tr>\n",
       "      <th>Winter</th>\n",
       "      <td>11.0</td>\n",
       "      <td>52.0</td>\n",
       "      <td>23.843209</td>\n",
       "      <td>145.0</td>\n",
       "      <td>200.0</td>\n",
       "      <td>175.925906</td>\n",
       "      <td>42.0</td>\n",
       "      <td>107.0</td>\n",
       "      <td>71.696736</td>\n",
       "    </tr>\n",
       "    <tr>\n",
       "      <th rowspan=\"2\" valign=\"top\">1992</th>\n",
       "      <th>Summer</th>\n",
       "      <td>11.0</td>\n",
       "      <td>62.0</td>\n",
       "      <td>24.400011</td>\n",
       "      <td>136.0</td>\n",
       "      <td>223.0</td>\n",
       "      <td>176.179360</td>\n",
       "      <td>30.0</td>\n",
       "      <td>176.5</td>\n",
       "      <td>71.058472</td>\n",
       "    </tr>\n",
       "    <tr>\n",
       "      <th>Winter</th>\n",
       "      <td>13.0</td>\n",
       "      <td>46.0</td>\n",
       "      <td>24.028393</td>\n",
       "      <td>145.0</td>\n",
       "      <td>200.0</td>\n",
       "      <td>175.384653</td>\n",
       "      <td>35.0</td>\n",
       "      <td>111.0</td>\n",
       "      <td>71.038028</td>\n",
       "    </tr>\n",
       "    <tr>\n",
       "      <th>1994</th>\n",
       "      <th>Winter</th>\n",
       "      <td>13.0</td>\n",
       "      <td>46.0</td>\n",
       "      <td>24.422821</td>\n",
       "      <td>148.0</td>\n",
       "      <td>200.0</td>\n",
       "      <td>175.179869</td>\n",
       "      <td>40.0</td>\n",
       "      <td>113.0</td>\n",
       "      <td>71.040586</td>\n",
       "    </tr>\n",
       "    <tr>\n",
       "      <th>1996</th>\n",
       "      <th>Summer</th>\n",
       "      <td>12.0</td>\n",
       "      <td>63.0</td>\n",
       "      <td>24.915418</td>\n",
       "      <td>136.0</td>\n",
       "      <td>223.0</td>\n",
       "      <td>175.819609</td>\n",
       "      <td>30.0</td>\n",
       "      <td>176.5</td>\n",
       "      <td>70.876734</td>\n",
       "    </tr>\n",
       "    <tr>\n",
       "      <th>1998</th>\n",
       "      <th>Winter</th>\n",
       "      <td>14.0</td>\n",
       "      <td>50.0</td>\n",
       "      <td>25.163416</td>\n",
       "      <td>142.0</td>\n",
       "      <td>200.0</td>\n",
       "      <td>174.599022</td>\n",
       "      <td>32.0</td>\n",
       "      <td>123.0</td>\n",
       "      <td>70.937977</td>\n",
       "    </tr>\n",
       "    <tr>\n",
       "      <th>2000</th>\n",
       "      <th>Summer</th>\n",
       "      <td>13.0</td>\n",
       "      <td>63.0</td>\n",
       "      <td>25.422513</td>\n",
       "      <td>136.0</td>\n",
       "      <td>226.0</td>\n",
       "      <td>176.083040</td>\n",
       "      <td>28.0</td>\n",
       "      <td>180.0</td>\n",
       "      <td>71.115247</td>\n",
       "    </tr>\n",
       "    <tr>\n",
       "      <th>2002</th>\n",
       "      <th>Winter</th>\n",
       "      <td>15.0</td>\n",
       "      <td>48.0</td>\n",
       "      <td>25.916281</td>\n",
       "      <td>149.0</td>\n",
       "      <td>201.0</td>\n",
       "      <td>174.706943</td>\n",
       "      <td>42.0</td>\n",
       "      <td>123.0</td>\n",
       "      <td>71.191412</td>\n",
       "    </tr>\n",
       "    <tr>\n",
       "      <th>2004</th>\n",
       "      <th>Summer</th>\n",
       "      <td>13.0</td>\n",
       "      <td>57.0</td>\n",
       "      <td>25.639515</td>\n",
       "      <td>139.0</td>\n",
       "      <td>226.0</td>\n",
       "      <td>175.971152</td>\n",
       "      <td>30.0</td>\n",
       "      <td>198.0</td>\n",
       "      <td>71.279104</td>\n",
       "    </tr>\n",
       "    <tr>\n",
       "      <th>2006</th>\n",
       "      <th>Winter</th>\n",
       "      <td>14.0</td>\n",
       "      <td>52.0</td>\n",
       "      <td>25.959151</td>\n",
       "      <td>147.0</td>\n",
       "      <td>206.0</td>\n",
       "      <td>174.624152</td>\n",
       "      <td>38.0</td>\n",
       "      <td>127.0</td>\n",
       "      <td>70.520022</td>\n",
       "    </tr>\n",
       "    <tr>\n",
       "      <th>2008</th>\n",
       "      <th>Summer</th>\n",
       "      <td>12.0</td>\n",
       "      <td>67.0</td>\n",
       "      <td>25.734092</td>\n",
       "      <td>137.0</td>\n",
       "      <td>226.0</td>\n",
       "      <td>176.201381</td>\n",
       "      <td>28.0</td>\n",
       "      <td>214.0</td>\n",
       "      <td>71.389552</td>\n",
       "    </tr>\n",
       "    <tr>\n",
       "      <th>2010</th>\n",
       "      <th>Winter</th>\n",
       "      <td>15.0</td>\n",
       "      <td>51.0</td>\n",
       "      <td>26.124262</td>\n",
       "      <td>149.0</td>\n",
       "      <td>206.0</td>\n",
       "      <td>174.918373</td>\n",
       "      <td>38.0</td>\n",
       "      <td>116.0</td>\n",
       "      <td>70.740654</td>\n",
       "    </tr>\n",
       "    <tr>\n",
       "      <th>2012</th>\n",
       "      <th>Summer</th>\n",
       "      <td>13.0</td>\n",
       "      <td>71.0</td>\n",
       "      <td>25.961378</td>\n",
       "      <td>140.0</td>\n",
       "      <td>221.0</td>\n",
       "      <td>176.250460</td>\n",
       "      <td>33.0</td>\n",
       "      <td>214.0</td>\n",
       "      <td>71.302389</td>\n",
       "    </tr>\n",
       "    <tr>\n",
       "      <th>2014</th>\n",
       "      <th>Winter</th>\n",
       "      <td>15.0</td>\n",
       "      <td>55.0</td>\n",
       "      <td>25.987324</td>\n",
       "      <td>146.0</td>\n",
       "      <td>206.0</td>\n",
       "      <td>174.818806</td>\n",
       "      <td>41.0</td>\n",
       "      <td>116.0</td>\n",
       "      <td>70.757539</td>\n",
       "    </tr>\n",
       "    <tr>\n",
       "      <th>2016</th>\n",
       "      <th>Summer</th>\n",
       "      <td>13.0</td>\n",
       "      <td>62.0</td>\n",
       "      <td>26.207919</td>\n",
       "      <td>133.0</td>\n",
       "      <td>218.0</td>\n",
       "      <td>176.025326</td>\n",
       "      <td>30.0</td>\n",
       "      <td>170.0</td>\n",
       "      <td>70.983974</td>\n",
       "    </tr>\n",
       "  </tbody>\n",
       "</table>\n",
       "</div>"
      ],
      "text/plain": [
       "              Age                  Height                    Weight         \\\n",
       "              min   max       mean    min    max        mean    min    max   \n",
       "Year Season                                                                  \n",
       "1896 Summer  10.0  40.0  24.428354  154.0  188.0  175.024252   45.0  106.0   \n",
       "1900 Summer  13.0  71.0  27.615160  153.0  191.0  175.416800   51.0  102.0   \n",
       "1904 Summer  14.0  71.0  26.457794  155.0  195.0  175.412605   43.0  115.0   \n",
       "1906 Summer  13.0  54.0  26.452842  165.0  196.0  175.764177   52.0  114.0   \n",
       "1908 Summer  14.0  61.0  26.674436  157.0  201.0  175.676599   51.0  115.0   \n",
       "1912 Summer  13.0  67.0  27.462098  157.0  200.0  175.715357   49.0  125.0   \n",
       "1920 Summer  13.0  72.0  28.555820  142.0  197.0  175.412831   48.0  146.0   \n",
       "1924 Summer  13.0  81.0  27.849653  142.0  200.0  175.322156   44.0  146.0   \n",
       "     Winter  11.0  58.0  27.338572  152.0  191.0  174.734256   45.0  109.0   \n",
       "1928 Summer  11.0  97.0  28.740219  147.0  202.0  175.337740   41.0  125.0   \n",
       "     Winter  15.0  54.0  26.422888  155.0  211.0  175.053138   45.0  103.0   \n",
       "1932 Summer  13.0  96.0  32.635220  147.0  200.0  175.007635   41.0  110.0   \n",
       "     Winter  11.0  52.0  25.547752  152.0  193.0  174.278066   45.0   91.0   \n",
       "1936 Summer  12.0  74.0  27.806255  147.0  205.0  175.464554   37.0  138.0   \n",
       "     Winter  11.0  46.0  25.054889  152.0  189.0  174.938858   45.0  109.0   \n",
       "1948 Summer  12.0  84.0  28.618998  140.0  213.0  175.546318   47.0  125.0   \n",
       "     Winter  15.0  53.0  26.236491  157.0  193.0  175.010300   48.0   92.0   \n",
       "1952 Summer  13.0  65.0  26.235340  150.0  213.0  175.054106   42.0  139.0   \n",
       "     Winter  12.0  47.0  25.446691  157.0  196.0  175.090950   48.0  145.0   \n",
       "1956 Summer  13.0  67.0  25.976668  148.0  218.0  174.780580   28.0  141.0   \n",
       "     Winter  12.0  48.0  25.550055  137.0  199.0  174.574161   36.0  130.0   \n",
       "1960 Summer  12.0  65.0  25.305533  146.0  218.0  173.405487   40.0  141.0   \n",
       "     Winter  11.0  39.0  24.251304  137.0  191.0  173.111651   36.0   96.0   \n",
       "1964 Summer  12.0  60.0  25.068027  137.0  218.0  173.749052   38.0  163.0   \n",
       "     Winter  13.0  53.0  24.428144  152.0  193.0  172.871000   46.0  114.0   \n",
       "1968 Summer  11.0  68.0  24.270160  127.0  216.0  174.101328   40.0  163.0   \n",
       "     Winter  11.0  51.0  24.229287  142.0  200.0  173.352544   34.0  108.0   \n",
       "1972 Summer  12.0  69.0  24.352076  130.0  223.0  174.762223   39.0  182.0   \n",
       "     Winter  13.0  42.0  24.110375  143.0  201.0  173.480414   38.0  108.0   \n",
       "1976 Summer  12.0  70.0  23.871870  136.0  220.0  175.065542   30.0  163.0   \n",
       "     Winter  12.0  46.0  23.750202  142.0  200.0  174.444162   40.0  100.0   \n",
       "1980 Summer  13.0  70.0  23.752271  131.0  220.0  175.624943   25.0  190.0   \n",
       "     Winter  13.0  49.0  23.657249  150.0  200.0  175.062630   38.0  104.0   \n",
       "1984 Summer  12.0  60.0  24.036510  132.0  218.0  175.563047   31.0  150.0   \n",
       "     Winter  15.0  53.0  23.454136  148.0  200.0  175.385969   40.0  112.0   \n",
       "1988 Summer  13.0  70.0  24.144723  127.0  223.0  175.674154   32.0  161.0   \n",
       "     Winter  11.0  52.0  23.843209  145.0  200.0  175.925906   42.0  107.0   \n",
       "1992 Summer  11.0  62.0  24.400011  136.0  223.0  176.179360   30.0  176.5   \n",
       "     Winter  13.0  46.0  24.028393  145.0  200.0  175.384653   35.0  111.0   \n",
       "1994 Winter  13.0  46.0  24.422821  148.0  200.0  175.179869   40.0  113.0   \n",
       "1996 Summer  12.0  63.0  24.915418  136.0  223.0  175.819609   30.0  176.5   \n",
       "1998 Winter  14.0  50.0  25.163416  142.0  200.0  174.599022   32.0  123.0   \n",
       "2000 Summer  13.0  63.0  25.422513  136.0  226.0  176.083040   28.0  180.0   \n",
       "2002 Winter  15.0  48.0  25.916281  149.0  201.0  174.706943   42.0  123.0   \n",
       "2004 Summer  13.0  57.0  25.639515  139.0  226.0  175.971152   30.0  198.0   \n",
       "2006 Winter  14.0  52.0  25.959151  147.0  206.0  174.624152   38.0  127.0   \n",
       "2008 Summer  12.0  67.0  25.734092  137.0  226.0  176.201381   28.0  214.0   \n",
       "2010 Winter  15.0  51.0  26.124262  149.0  206.0  174.918373   38.0  116.0   \n",
       "2012 Summer  13.0  71.0  25.961378  140.0  221.0  176.250460   33.0  214.0   \n",
       "2014 Winter  15.0  55.0  25.987324  146.0  206.0  174.818806   41.0  116.0   \n",
       "2016 Summer  13.0  62.0  26.207919  133.0  218.0  176.025326   30.0  170.0   \n",
       "\n",
       "                        \n",
       "                  mean  \n",
       "Year Season             \n",
       "1896 Summer  70.790769  \n",
       "1900 Summer  70.859682  \n",
       "1904 Summer  70.871300  \n",
       "1906 Summer  71.319248  \n",
       "1908 Summer  71.431914  \n",
       "1912 Summer  71.058674  \n",
       "1920 Summer  70.966180  \n",
       "1924 Summer  70.840009  \n",
       "     Winter  70.600658  \n",
       "1928 Summer  70.734524  \n",
       "     Winter  70.778484  \n",
       "1932 Summer  70.735002  \n",
       "     Winter  70.180712  \n",
       "1936 Summer  70.832046  \n",
       "     Winter  70.645648  \n",
       "1948 Summer  70.903722  \n",
       "     Winter  70.479169  \n",
       "1952 Summer  70.553000  \n",
       "     Winter  70.495448  \n",
       "1956 Summer  70.548171  \n",
       "     Winter  70.663588  \n",
       "1960 Summer  69.465373  \n",
       "     Winter  69.525309  \n",
       "1964 Summer  69.723353  \n",
       "     Winter  70.048666  \n",
       "1968 Summer  69.468587  \n",
       "     Winter  70.278412  \n",
       "1972 Summer  70.108899  \n",
       "     Winter  69.504611  \n",
       "1976 Summer  70.092724  \n",
       "     Winter  70.582825  \n",
       "1980 Summer  70.669147  \n",
       "     Winter  70.911965  \n",
       "1984 Summer  70.086959  \n",
       "     Winter  71.065572  \n",
       "1988 Summer  70.236463  \n",
       "     Winter  71.696736  \n",
       "1992 Summer  71.058472  \n",
       "     Winter  71.038028  \n",
       "1994 Winter  71.040586  \n",
       "1996 Summer  70.876734  \n",
       "1998 Winter  70.937977  \n",
       "2000 Summer  71.115247  \n",
       "2002 Winter  71.191412  \n",
       "2004 Summer  71.279104  \n",
       "2006 Winter  70.520022  \n",
       "2008 Summer  71.389552  \n",
       "2010 Winter  70.740654  \n",
       "2012 Summer  71.302389  \n",
       "2014 Winter  70.757539  \n",
       "2016 Summer  70.983974  "
      ]
     },
     "execution_count": 24,
     "metadata": {},
     "output_type": "execute_result"
    }
   ],
   "source": [
    "#Grouping 'Age', 'Height' and 'Weight' data by 'Year' and 'Season'\n",
    "data.groupby(['Year','Season'])[['Age', 'Height', 'Weight']].agg(['min', 'max', 'mean'])"
   ]
  },
  {
   "cell_type": "markdown",
   "id": "179d74c7",
   "metadata": {
    "papermill": {
     "duration": 0.023297,
     "end_time": "2023-11-09T16:37:40.672065",
     "exception": false,
     "start_time": "2023-11-09T16:37:40.648768",
     "status": "completed"
    },
    "tags": []
   },
   "source": [
    "### As seen in the average Age, Height and Weight data, they have remained similar throughout all editions and regardless of whether they are summer or winter editions."
   ]
  },
  {
   "cell_type": "code",
   "execution_count": 25,
   "id": "16b31dae",
   "metadata": {
    "execution": {
     "iopub.execute_input": "2023-11-09T16:37:40.722118Z",
     "iopub.status.busy": "2023-11-09T16:37:40.721639Z",
     "iopub.status.idle": "2023-11-09T16:37:40.801048Z",
     "shell.execute_reply": "2023-11-09T16:37:40.799818Z"
    },
    "papermill": {
     "duration": 0.107622,
     "end_time": "2023-11-09T16:37:40.803676",
     "exception": false,
     "start_time": "2023-11-09T16:37:40.696054",
     "status": "completed"
    },
    "tags": []
   },
   "outputs": [
    {
     "data": {
      "text/html": [
       "<div>\n",
       "<style scoped>\n",
       "    .dataframe tbody tr th:only-of-type {\n",
       "        vertical-align: middle;\n",
       "    }\n",
       "\n",
       "    .dataframe tbody tr th {\n",
       "        vertical-align: top;\n",
       "    }\n",
       "\n",
       "    .dataframe thead tr th {\n",
       "        text-align: left;\n",
       "    }\n",
       "\n",
       "    .dataframe thead tr:last-of-type th {\n",
       "        text-align: right;\n",
       "    }\n",
       "</style>\n",
       "<table border=\"1\" class=\"dataframe\">\n",
       "  <thead>\n",
       "    <tr>\n",
       "      <th></th>\n",
       "      <th></th>\n",
       "      <th colspan=\"3\" halign=\"left\">Age</th>\n",
       "    </tr>\n",
       "    <tr>\n",
       "      <th></th>\n",
       "      <th></th>\n",
       "      <th>min</th>\n",
       "      <th>max</th>\n",
       "      <th>mean</th>\n",
       "    </tr>\n",
       "    <tr>\n",
       "      <th>Season</th>\n",
       "      <th>Sex</th>\n",
       "      <th></th>\n",
       "      <th></th>\n",
       "      <th></th>\n",
       "    </tr>\n",
       "  </thead>\n",
       "  <tbody>\n",
       "    <tr>\n",
       "      <th rowspan=\"2\" valign=\"top\">Summer</th>\n",
       "      <th>F</th>\n",
       "      <td>11.0</td>\n",
       "      <td>74.0</td>\n",
       "      <td>23.674297</td>\n",
       "    </tr>\n",
       "    <tr>\n",
       "      <th>M</th>\n",
       "      <td>10.0</td>\n",
       "      <td>97.0</td>\n",
       "      <td>26.396239</td>\n",
       "    </tr>\n",
       "    <tr>\n",
       "      <th rowspan=\"2\" valign=\"top\">Winter</th>\n",
       "      <th>F</th>\n",
       "      <td>11.0</td>\n",
       "      <td>48.0</td>\n",
       "      <td>24.015114</td>\n",
       "    </tr>\n",
       "    <tr>\n",
       "      <th>M</th>\n",
       "      <td>12.0</td>\n",
       "      <td>58.0</td>\n",
       "      <td>25.504698</td>\n",
       "    </tr>\n",
       "  </tbody>\n",
       "</table>\n",
       "</div>"
      ],
      "text/plain": [
       "             Age                 \n",
       "             min   max       mean\n",
       "Season Sex                       \n",
       "Summer F    11.0  74.0  23.674297\n",
       "       M    10.0  97.0  26.396239\n",
       "Winter F    11.0  48.0  24.015114\n",
       "       M    12.0  58.0  25.504698"
      ]
     },
     "execution_count": 25,
     "metadata": {},
     "output_type": "execute_result"
    }
   ],
   "source": [
    "#Grouping the a'Age' data by 'Season' and 'Sex'\n",
    "data.groupby(['Season', 'Sex'])[['Age']].agg(['min', 'max', 'mean'])"
   ]
  },
  {
   "cell_type": "markdown",
   "id": "ee6a109d",
   "metadata": {
    "papermill": {
     "duration": 0.025361,
     "end_time": "2023-11-09T16:37:40.853607",
     "exception": false,
     "start_time": "2023-11-09T16:37:40.828246",
     "status": "completed"
    },
    "tags": []
   },
   "source": [
    "### We can see that the maximum age for Winter Sports Athletes is significantly lower than for Summer Olympic Athletes, probably because the cold decreases performance more the older the athlete is."
   ]
  },
  {
   "cell_type": "code",
   "execution_count": 26,
   "id": "a480e7ce",
   "metadata": {
    "execution": {
     "iopub.execute_input": "2023-11-09T16:37:40.903814Z",
     "iopub.status.busy": "2023-11-09T16:37:40.903401Z",
     "iopub.status.idle": "2023-11-09T16:37:41.151331Z",
     "shell.execute_reply": "2023-11-09T16:37:41.150118Z"
    },
    "papermill": {
     "duration": 0.276313,
     "end_time": "2023-11-09T16:37:41.153940",
     "exception": false,
     "start_time": "2023-11-09T16:37:40.877627",
     "status": "completed"
    },
    "tags": []
   },
   "outputs": [
    {
     "data": {
      "text/html": [
       "<div>\n",
       "<style scoped>\n",
       "    .dataframe tbody tr th:only-of-type {\n",
       "        vertical-align: middle;\n",
       "    }\n",
       "\n",
       "    .dataframe tbody tr th {\n",
       "        vertical-align: top;\n",
       "    }\n",
       "\n",
       "    .dataframe thead th {\n",
       "        text-align: right;\n",
       "    }\n",
       "</style>\n",
       "<table border=\"1\" class=\"dataframe\">\n",
       "  <thead>\n",
       "    <tr style=\"text-align: right;\">\n",
       "      <th></th>\n",
       "      <th></th>\n",
       "      <th>Team</th>\n",
       "      <th>Sport</th>\n",
       "      <th>Event</th>\n",
       "    </tr>\n",
       "    <tr>\n",
       "      <th>Season</th>\n",
       "      <th>Sex</th>\n",
       "      <th></th>\n",
       "      <th></th>\n",
       "      <th></th>\n",
       "    </tr>\n",
       "  </thead>\n",
       "  <tbody>\n",
       "    <tr>\n",
       "      <th rowspan=\"2\" valign=\"top\">Summer</th>\n",
       "      <th>F</th>\n",
       "      <td>352</td>\n",
       "      <td>40</td>\n",
       "      <td>214</td>\n",
       "    </tr>\n",
       "    <tr>\n",
       "      <th>M</th>\n",
       "      <td>1118</td>\n",
       "      <td>49</td>\n",
       "      <td>491</td>\n",
       "    </tr>\n",
       "    <tr>\n",
       "      <th rowspan=\"2\" valign=\"top\">Winter</th>\n",
       "      <th>F</th>\n",
       "      <td>144</td>\n",
       "      <td>14</td>\n",
       "      <td>57</td>\n",
       "    </tr>\n",
       "    <tr>\n",
       "      <th>M</th>\n",
       "      <td>214</td>\n",
       "      <td>17</td>\n",
       "      <td>67</td>\n",
       "    </tr>\n",
       "  </tbody>\n",
       "</table>\n",
       "</div>"
      ],
      "text/plain": [
       "            Team  Sport  Event\n",
       "Season Sex                    \n",
       "Summer F     352     40    214\n",
       "       M    1118     49    491\n",
       "Winter F     144     14     57\n",
       "       M     214     17     67"
      ]
     },
     "execution_count": 26,
     "metadata": {},
     "output_type": "execute_result"
    }
   ],
   "source": [
    "#Grouping the 'Team', 'Sport' and 'Event' data by 'Season' and 'Sex' and counting the unique values \n",
    "data.groupby(['Season', 'Sex'])[['Team', 'Sport', 'Event']].nunique()"
   ]
  },
  {
   "cell_type": "markdown",
   "id": "e76edd42",
   "metadata": {
    "papermill": {
     "duration": 0.02519,
     "end_time": "2023-11-09T16:37:41.203793",
     "exception": false,
     "start_time": "2023-11-09T16:37:41.178603",
     "status": "completed"
    },
    "tags": []
   },
   "source": [
    "### The number of Teams and Events for men is much greater than for women. Not so the number of sports that are shared for both sexes.\n",
    "### This is explained by the fact that women did not have access to the same number of competitions as men until London 2012 and not in all countries women practice the same number of sports as men, which significantly reduces the number of teams. that compete."
   ]
  },
  {
   "cell_type": "code",
   "execution_count": 27,
   "id": "2d533036",
   "metadata": {
    "execution": {
     "iopub.execute_input": "2023-11-09T16:37:41.255836Z",
     "iopub.status.busy": "2023-11-09T16:37:41.255091Z",
     "iopub.status.idle": "2023-11-09T16:37:41.359841Z",
     "shell.execute_reply": "2023-11-09T16:37:41.358557Z"
    },
    "papermill": {
     "duration": 0.133815,
     "end_time": "2023-11-09T16:37:41.362484",
     "exception": false,
     "start_time": "2023-11-09T16:37:41.228669",
     "status": "completed"
    },
    "tags": []
   },
   "outputs": [
    {
     "data": {
      "text/html": [
       "<div>\n",
       "<style scoped>\n",
       "    .dataframe tbody tr th:only-of-type {\n",
       "        vertical-align: middle;\n",
       "    }\n",
       "\n",
       "    .dataframe tbody tr th {\n",
       "        vertical-align: top;\n",
       "    }\n",
       "\n",
       "    .dataframe thead th {\n",
       "        text-align: right;\n",
       "    }\n",
       "</style>\n",
       "<table border=\"1\" class=\"dataframe\">\n",
       "  <thead>\n",
       "    <tr style=\"text-align: right;\">\n",
       "      <th></th>\n",
       "      <th></th>\n",
       "      <th></th>\n",
       "      <th>Age</th>\n",
       "      <th>Height</th>\n",
       "      <th>Weight</th>\n",
       "    </tr>\n",
       "    <tr>\n",
       "      <th>Medal</th>\n",
       "      <th>Season</th>\n",
       "      <th>Sex</th>\n",
       "      <th></th>\n",
       "      <th></th>\n",
       "      <th></th>\n",
       "    </tr>\n",
       "  </thead>\n",
       "  <tbody>\n",
       "    <tr>\n",
       "      <th rowspan=\"4\" valign=\"top\">No Medal</th>\n",
       "      <th rowspan=\"2\" valign=\"top\">Summer</th>\n",
       "      <th>F</th>\n",
       "      <td>23.540824</td>\n",
       "      <td>168.357685</td>\n",
       "      <td>60.593038</td>\n",
       "    </tr>\n",
       "    <tr>\n",
       "      <th>M</th>\n",
       "      <td>26.382399</td>\n",
       "      <td>177.587796</td>\n",
       "      <td>73.735763</td>\n",
       "    </tr>\n",
       "    <tr>\n",
       "      <th rowspan=\"2\" valign=\"top\">Winter</th>\n",
       "      <th>F</th>\n",
       "      <td>23.855208</td>\n",
       "      <td>167.406713</td>\n",
       "      <td>60.885655</td>\n",
       "    </tr>\n",
       "    <tr>\n",
       "      <th>M</th>\n",
       "      <td>25.377882</td>\n",
       "      <td>177.842456</td>\n",
       "      <td>74.832962</td>\n",
       "    </tr>\n",
       "    <tr>\n",
       "      <th rowspan=\"4\" valign=\"top\">Bronze</th>\n",
       "      <th rowspan=\"2\" valign=\"top\">Summer</th>\n",
       "      <th>F</th>\n",
       "      <td>24.634359</td>\n",
       "      <td>171.183455</td>\n",
       "      <td>64.052365</td>\n",
       "    </tr>\n",
       "    <tr>\n",
       "      <th>M</th>\n",
       "      <td>26.323907</td>\n",
       "      <td>179.426277</td>\n",
       "      <td>76.387936</td>\n",
       "    </tr>\n",
       "    <tr>\n",
       "      <th rowspan=\"2\" valign=\"top\">Winter</th>\n",
       "      <th>F</th>\n",
       "      <td>25.115578</td>\n",
       "      <td>167.403429</td>\n",
       "      <td>61.382748</td>\n",
       "    </tr>\n",
       "    <tr>\n",
       "      <th>M</th>\n",
       "      <td>26.384883</td>\n",
       "      <td>178.890860</td>\n",
       "      <td>77.100403</td>\n",
       "    </tr>\n",
       "    <tr>\n",
       "      <th rowspan=\"4\" valign=\"top\">Gold</th>\n",
       "      <th rowspan=\"2\" valign=\"top\">Summer</th>\n",
       "      <th>F</th>\n",
       "      <td>24.213271</td>\n",
       "      <td>171.665372</td>\n",
       "      <td>64.378546</td>\n",
       "    </tr>\n",
       "    <tr>\n",
       "      <th>M</th>\n",
       "      <td>26.473703</td>\n",
       "      <td>179.872225</td>\n",
       "      <td>76.872683</td>\n",
       "    </tr>\n",
       "    <tr>\n",
       "      <th rowspan=\"2\" valign=\"top\">Winter</th>\n",
       "      <th>F</th>\n",
       "      <td>25.202636</td>\n",
       "      <td>167.619718</td>\n",
       "      <td>62.426866</td>\n",
       "    </tr>\n",
       "    <tr>\n",
       "      <th>M</th>\n",
       "      <td>26.596487</td>\n",
       "      <td>179.537387</td>\n",
       "      <td>77.784048</td>\n",
       "    </tr>\n",
       "    <tr>\n",
       "      <th rowspan=\"4\" valign=\"top\">Silver</th>\n",
       "      <th rowspan=\"2\" valign=\"top\">Summer</th>\n",
       "      <th>F</th>\n",
       "      <td>24.292628</td>\n",
       "      <td>171.391190</td>\n",
       "      <td>64.056271</td>\n",
       "    </tr>\n",
       "    <tr>\n",
       "      <th>M</th>\n",
       "      <td>26.627032</td>\n",
       "      <td>179.483286</td>\n",
       "      <td>76.488482</td>\n",
       "    </tr>\n",
       "    <tr>\n",
       "      <th rowspan=\"2\" valign=\"top\">Winter</th>\n",
       "      <th>F</th>\n",
       "      <td>25.240527</td>\n",
       "      <td>167.974450</td>\n",
       "      <td>62.260945</td>\n",
       "    </tr>\n",
       "    <tr>\n",
       "      <th>M</th>\n",
       "      <td>26.430566</td>\n",
       "      <td>179.085914</td>\n",
       "      <td>77.253308</td>\n",
       "    </tr>\n",
       "  </tbody>\n",
       "</table>\n",
       "</div>"
      ],
      "text/plain": [
       "                            Age      Height     Weight\n",
       "Medal     Season Sex                                  \n",
       " No Medal Summer F    23.540824  168.357685  60.593038\n",
       "                 M    26.382399  177.587796  73.735763\n",
       "          Winter F    23.855208  167.406713  60.885655\n",
       "                 M    25.377882  177.842456  74.832962\n",
       "Bronze    Summer F    24.634359  171.183455  64.052365\n",
       "                 M    26.323907  179.426277  76.387936\n",
       "          Winter F    25.115578  167.403429  61.382748\n",
       "                 M    26.384883  178.890860  77.100403\n",
       "Gold      Summer F    24.213271  171.665372  64.378546\n",
       "                 M    26.473703  179.872225  76.872683\n",
       "          Winter F    25.202636  167.619718  62.426866\n",
       "                 M    26.596487  179.537387  77.784048\n",
       "Silver    Summer F    24.292628  171.391190  64.056271\n",
       "                 M    26.627032  179.483286  76.488482\n",
       "          Winter F    25.240527  167.974450  62.260945\n",
       "                 M    26.430566  179.085914  77.253308"
      ]
     },
     "execution_count": 27,
     "metadata": {},
     "output_type": "execute_result"
    }
   ],
   "source": [
    "#Grouping de 'Age', 'Height' and 'Weight' data by 'Medal', 'Season' and 'Sex' showing average\n",
    "data.groupby(['Medal', 'Season', 'Sex'])[['Age', 'Height', 'Weight']].mean()"
   ]
  },
  {
   "cell_type": "markdown",
   "id": "b80fa748",
   "metadata": {
    "papermill": {
     "duration": 0.024309,
     "end_time": "2023-11-09T16:37:41.412564",
     "exception": false,
     "start_time": "2023-11-09T16:37:41.388255",
     "status": "completed"
    },
    "tags": []
   },
   "source": [
    "### The results show that athletes who win a medal have an average age of around 25 years."
   ]
  },
  {
   "cell_type": "markdown",
   "id": "d67d40e5",
   "metadata": {
    "papermill": {
     "duration": 0.024202,
     "end_time": "2023-11-09T16:37:41.461816",
     "exception": false,
     "start_time": "2023-11-09T16:37:41.437614",
     "status": "completed"
    },
    "tags": []
   },
   "source": [
    "# 6. Multvariate data visualizations:"
   ]
  },
  {
   "cell_type": "code",
   "execution_count": 28,
   "id": "1eca61fb",
   "metadata": {
    "execution": {
     "iopub.execute_input": "2023-11-09T16:37:41.512636Z",
     "iopub.status.busy": "2023-11-09T16:37:41.512215Z",
     "iopub.status.idle": "2023-11-09T16:37:41.838179Z",
     "shell.execute_reply": "2023-11-09T16:37:41.836793Z"
    },
    "papermill": {
     "duration": 0.3548,
     "end_time": "2023-11-09T16:37:41.841120",
     "exception": false,
     "start_time": "2023-11-09T16:37:41.486320",
     "status": "completed"
    },
    "tags": []
   },
   "outputs": [
    {
     "data": {
      "text/plain": [
       "<Axes: >"
      ]
     },
     "execution_count": 28,
     "metadata": {},
     "output_type": "execute_result"
    },
    {
     "data": {
      "image/png": "[encoded data removed]",
      "text/plain": [
       "<Figure size 640x480 with 2 Axes>"
      ]
     },
     "metadata": {},
     "output_type": "display_data"
    }
   ],
   "source": [
    "#Heat map of the correlation between 'Age', 'Height' and 'Weight'\n",
    "sns.heatmap(data[['Age','Height','Weight']].corr(), annot=True, cmap='crest',linewidths=0.5)"
   ]
  },
  {
   "cell_type": "markdown",
   "id": "bf264097",
   "metadata": {
    "papermill": {
     "duration": 0.028627,
     "end_time": "2023-11-09T16:37:41.896083",
     "exception": false,
     "start_time": "2023-11-09T16:37:41.867456",
     "status": "completed"
    },
    "tags": []
   },
   "source": [
    "### There is a positive correlation between 'Height' and 'Weight' as we could expect, but not between 'Age' and the rest of the variables."
   ]
  },
  {
   "cell_type": "code",
   "execution_count": 29,
   "id": "815b9c79",
   "metadata": {
    "execution": {
     "iopub.execute_input": "2023-11-09T16:37:41.948201Z",
     "iopub.status.busy": "2023-11-09T16:37:41.947521Z",
     "iopub.status.idle": "2023-11-09T16:37:43.137664Z",
     "shell.execute_reply": "2023-11-09T16:37:43.136124Z"
    },
    "papermill": {
     "duration": 1.219621,
     "end_time": "2023-11-09T16:37:43.140643",
     "exception": false,
     "start_time": "2023-11-09T16:37:41.921022",
     "status": "completed"
    },
    "tags": []
   },
   "outputs": [
    {
     "data": {
      "image/png": "[encoded data removed]",
      "text/plain": [
       "<Figure size 1000x600 with 1 Axes>"
      ]
     },
     "metadata": {},
     "output_type": "display_data"
    }
   ],
   "source": [
    "#Histogram of the 'Age' distribution by 'Sex'\n",
    "plt.figure(figsize=(10, 6))\n",
    "sns.histplot(data=data, x='Age', hue='Sex', bins=50)\n",
    "plt.show()"
   ]
  },
  {
   "cell_type": "code",
   "execution_count": 30,
   "id": "e45da7f5",
   "metadata": {
    "execution": {
     "iopub.execute_input": "2023-11-09T16:37:43.196125Z",
     "iopub.status.busy": "2023-11-09T16:37:43.195671Z",
     "iopub.status.idle": "2023-11-09T16:37:44.901471Z",
     "shell.execute_reply": "2023-11-09T16:37:44.900293Z"
    },
    "papermill": {
     "duration": 1.736908,
     "end_time": "2023-11-09T16:37:44.904041",
     "exception": false,
     "start_time": "2023-11-09T16:37:43.167133",
     "status": "completed"
    },
    "tags": []
   },
   "outputs": [
    {
     "name": "stderr",
     "output_type": "stream",
     "text": [
      "/opt/conda/lib/python3.10/site-packages/seaborn/axisgrid.py:118: UserWarning: The figure layout has changed to tight\n",
      "  self._figure.tight_layout(*args, **kwargs)\n"
     ]
    },
    {
     "data": {
      "text/plain": [
       "<Figure size 1000x600 with 0 Axes>"
      ]
     },
     "metadata": {},
     "output_type": "display_data"
    },
    {
     "data": {
      "image/png": "[encoded data removed]",
      "text/plain": [
       "<Figure size 1200x600 with 2 Axes>"
      ]
     },
     "metadata": {},
     "output_type": "display_data"
    }
   ],
   "source": [
    "#Separate the previous histogram into two by gender\n",
    "plt.figure(figsize=(10, 6))  \n",
    "g = sns.FacetGrid(data, col=\"Sex\", height=6, aspect=1.0, hue='Sex')\n",
    "g.map(sns.histplot, \"Age\", bins=50)\n",
    "plt.show()"
   ]
  },
  {
   "cell_type": "markdown",
   "id": "1fe54740",
   "metadata": {
    "papermill": {
     "duration": 0.026374,
     "end_time": "2023-11-09T16:37:44.956782",
     "exception": false,
     "start_time": "2023-11-09T16:37:44.930408",
     "status": "completed"
    },
    "tags": []
   },
   "source": [
    "### As we can see, women participate in the Olympic Games at a younger age, but men have older athletes.\n",
    "### This age distribution can be explained by the fact that women reach biological maturity earlier than men, which allows them to participate earlier in the Olympic Games.\n",
    "### Regarding the longevity of men, it could be explained by the fact that they historically have fewer family responsibilities that make it impossible for them to continue practicing sports."
   ]
  },
  {
   "cell_type": "code",
   "execution_count": 31,
   "id": "65448f5d",
   "metadata": {
    "execution": {
     "iopub.execute_input": "2023-11-09T16:37:45.010998Z",
     "iopub.status.busy": "2023-11-09T16:37:45.010582Z",
     "iopub.status.idle": "2023-11-09T16:37:45.834748Z",
     "shell.execute_reply": "2023-11-09T16:37:45.833336Z"
    },
    "papermill": {
     "duration": 0.854297,
     "end_time": "2023-11-09T16:37:45.837354",
     "exception": false,
     "start_time": "2023-11-09T16:37:44.983057",
     "status": "completed"
    },
    "tags": []
   },
   "outputs": [
    {
     "data": {
      "image/png": "[encoded data removed]",
      "text/plain": [
       "<Figure size 1000x600 with 1 Axes>"
      ]
     },
     "metadata": {},
     "output_type": "display_data"
    }
   ],
   "source": [
    "plt.figure(figsize=(10,6))\n",
    "sns.boxplot(data=data, x='Age', y='Sex', hue='Season')\n",
    "plt.show()"
   ]
  },
  {
   "cell_type": "markdown",
   "id": "f010d36d",
   "metadata": {
    "papermill": {
     "duration": 0.026398,
     "end_time": "2023-11-09T16:37:45.890993",
     "exception": false,
     "start_time": "2023-11-09T16:37:45.864595",
     "status": "completed"
    },
    "tags": []
   },
   "source": [
    "### A determining factor for the longevity of athletes is the climate, since as seen in the box plot, older athletes for both sexes participate in the Summer Olympics."
   ]
  },
  {
   "cell_type": "markdown",
   "id": "6cff05c8",
   "metadata": {
    "papermill": {
     "duration": 0.026273,
     "end_time": "2023-11-09T16:37:45.944076",
     "exception": false,
     "start_time": "2023-11-09T16:37:45.917803",
     "status": "completed"
    },
    "tags": []
   },
   "source": [
    "# Answers to questions 4:\n",
    "### 4. Evolution of the number of sports by edition.\n",
    "#### As we can see in the line plot the number of sports in the Olympic Games has been increasing almost in every edition, only in the Winter Olympic Games has been more constant."
   ]
  },
  {
   "cell_type": "code",
   "execution_count": 32,
   "id": "018952e8",
   "metadata": {
    "execution": {
     "iopub.execute_input": "2023-11-09T16:37:46.001688Z",
     "iopub.status.busy": "2023-11-09T16:37:46.000433Z",
     "iopub.status.idle": "2023-11-09T16:37:46.215593Z",
     "shell.execute_reply": "2023-11-09T16:37:46.214309Z"
    },
    "papermill": {
     "duration": 0.246715,
     "end_time": "2023-11-09T16:37:46.218587",
     "exception": false,
     "start_time": "2023-11-09T16:37:45.971872",
     "status": "completed"
    },
    "tags": []
   },
   "outputs": [],
   "source": [
    "#Evolution of the number of 'Sports' throughout the Olyumpic Games editions\n",
    "sport_number_evolution = data.groupby(['Games','Year','Season'])[['Sport', 'Event']].nunique()"
   ]
  },
  {
   "cell_type": "code",
   "execution_count": 33,
   "id": "785bb3e5",
   "metadata": {
    "execution": {
     "iopub.execute_input": "2023-11-09T16:37:46.275992Z",
     "iopub.status.busy": "2023-11-09T16:37:46.274944Z",
     "iopub.status.idle": "2023-11-09T16:37:47.112694Z",
     "shell.execute_reply": "2023-11-09T16:37:47.111799Z"
    },
    "jupyter": {
     "source_hidden": true
    },
    "papermill": {
     "duration": 0.869471,
     "end_time": "2023-11-09T16:37:47.115717",
     "exception": false,
     "start_time": "2023-11-09T16:37:46.246246",
     "status": "completed"
    },
    "tags": []
   },
   "outputs": [
    {
     "name": "stderr",
     "output_type": "stream",
     "text": [
      "/tmp/ipykernel_20/741778350.py:7: UserWarning: FixedFormatter should only be used together with FixedLocator\n",
      "  ax.set_xticklabels(ax.get_xticklabels(), rotation=90)\n"
     ]
    },
    {
     "data": {
      "image/png": "[encoded data removed]",
      "text/plain": [
       "<Figure size 1500x600 with 1 Axes>"
      ]
     },
     "metadata": {},
     "output_type": "display_data"
    }
   ],
   "source": [
    "#Lineplot of the evolution of the number of 'Sports' throughout history\n",
    "plt.figure(figsize=(15, 6))\n",
    "ax = sns.lineplot(data=sport_number_evolution, x=\"Games\", y=\"Sport\", hue='Season', marker=\"o\")\n",
    "plt.xlabel(\"Olympic Edition\")\n",
    "plt.ylabel(\"Númber of Sports\")\n",
    "plt.title(\"Evolution of the number of Sports by Year \")\n",
    "ax.set_xticklabels(ax.get_xticklabels(), rotation=90)\n",
    "\n",
    "plt.show()"
   ]
  },
  {
   "cell_type": "markdown",
   "id": "1c353d3a",
   "metadata": {
    "papermill": {
     "duration": 0.029529,
     "end_time": "2023-11-09T16:37:47.174288",
     "exception": false,
     "start_time": "2023-11-09T16:37:47.144759",
     "status": "completed"
    },
    "tags": []
   },
   "source": [
    "# Answers to questions 5:\n",
    "### 5. Number of Olympic Games by city\n",
    "#### The answer to this question is divided into two bar graphs, one for the Summer Olympics and one for the Winter Olympics.\n",
    "#### All the cities that have hosted this sports event and how many times they have done so are displayed. At first glance, we can see that European cities predominate, which could be explained because it was on this continent where the ancient sports tradition was revived and first promoted."
   ]
  },
  {
   "cell_type": "code",
   "execution_count": 34,
   "id": "bfce14c9",
   "metadata": {
    "execution": {
     "iopub.execute_input": "2023-11-09T16:37:47.234353Z",
     "iopub.status.busy": "2023-11-09T16:37:47.233506Z",
     "iopub.status.idle": "2023-11-09T16:37:47.466416Z",
     "shell.execute_reply": "2023-11-09T16:37:47.465230Z"
    },
    "papermill": {
     "duration": 0.266098,
     "end_time": "2023-11-09T16:37:47.469251",
     "exception": false,
     "start_time": "2023-11-09T16:37:47.203153",
     "status": "completed"
    },
    "tags": []
   },
   "outputs": [],
   "source": [
    "#Select only the summer olympic games data\n",
    "summer_games_rows = data[data['Season'] == 'Summer']\n",
    "\n",
    "#Select only the summer olympic games data\n",
    "winter_games_rows = data[data['Season'] == 'Winter']\n",
    "\n",
    "#Grouping the summer 'Games' data by 'City' and 'Sex' and counting the unique values \n",
    "summer_games = summer_games_rows.groupby(['City'])[['Games']].nunique()\n",
    "summer_games = summer_games.sort_values(by='Games', ascending=False)\n",
    "\n",
    "#Grouping the summer 'Games' data by 'City' and 'Sex' and counting the unique values \n",
    "winter_games = winter_games_rows.groupby(['City'])[['Games']].nunique()\n",
    "winter_games = winter_games.sort_values(by='Games', ascending=False)\n"
   ]
  },
  {
   "cell_type": "code",
   "execution_count": 35,
   "id": "b7f39a35",
   "metadata": {
    "execution": {
     "iopub.execute_input": "2023-11-09T16:37:47.528385Z",
     "iopub.status.busy": "2023-11-09T16:37:47.527987Z",
     "iopub.status.idle": "2023-11-09T16:37:47.987369Z",
     "shell.execute_reply": "2023-11-09T16:37:47.986069Z"
    },
    "papermill": {
     "duration": 0.492153,
     "end_time": "2023-11-09T16:37:47.989903",
     "exception": false,
     "start_time": "2023-11-09T16:37:47.497750",
     "status": "completed"
    },
    "tags": []
   },
   "outputs": [
    {
     "data": {
      "image/png": "[encoded data removed]",
      "text/plain": [
       "<Figure size 1200x600 with 1 Axes>"
      ]
     },
     "metadata": {},
     "output_type": "display_data"
    }
   ],
   "source": [
    "#Show the number of Summer 'Games' by 'City'\n",
    "sns.set_style(\"whitegrid\")\n",
    "summer_games.reset_index(inplace=True)\n",
    "\n",
    "plt.figure(figsize=(12, 6))  \n",
    "sns.barplot(data=summer_games, x='Games', y='City', palette='tab20')\n",
    "\n",
    "plt.xlabel('Summer Olympic Games')\n",
    "plt.ylabel('City')\n",
    "plt.title('Number of Summer Olympic Games by City')\n",
    "plt.xticks([1,2,3]) \n",
    "\n",
    "plt.show()"
   ]
  },
  {
   "cell_type": "code",
   "execution_count": 36,
   "id": "a8efb129",
   "metadata": {
    "execution": {
     "iopub.execute_input": "2023-11-09T16:37:48.052184Z",
     "iopub.status.busy": "2023-11-09T16:37:48.051761Z",
     "iopub.status.idle": "2023-11-09T16:37:48.456213Z",
     "shell.execute_reply": "2023-11-09T16:37:48.454805Z"
    },
    "papermill": {
     "duration": 0.439016,
     "end_time": "2023-11-09T16:37:48.458686",
     "exception": false,
     "start_time": "2023-11-09T16:37:48.019670",
     "status": "completed"
    },
    "tags": []
   },
   "outputs": [
    {
     "data": {
      "image/png": "[encoded data removed]",
      "text/plain": [
       "<Figure size 1200x600 with 1 Axes>"
      ]
     },
     "metadata": {},
     "output_type": "display_data"
    }
   ],
   "source": [
    "#Show the number of Winter 'Games' by 'City'\n",
    "sns.set_style(\"whitegrid\")\n",
    "winter_games.reset_index(inplace=True)\n",
    "\n",
    "plt.figure(figsize=(12, 6))  \n",
    "sns.barplot(data=winter_games, x='Games', y='City', palette='tab20')\n",
    "\n",
    "plt.xlabel('Winter Olympic Games')\n",
    "plt.ylabel('City')\n",
    "plt.title('Number of Winter Olympic Games by City')\n",
    "plt.xticks([1, 2]) \n",
    "\n",
    "\n",
    "plt.show()"
   ]
  }
 ],
 "metadata": {
  "kernelspec": {
   "display_name": "Python 3",
   "language": "python",
   "name": "python3"
  },
  "language_info": {
   "codemirror_mode": {
    "name": "ipython",
    "version": 3
   },
   "file_extension": ".py",
   "mimetype": "text/x-python",
   "name": "python",
   "nbconvert_exporter": "python",
   "pygments_lexer": "ipython3",
   "version": "3.10.12"
  },
  "papermill": {
   "default_parameters": {},
   "duration": 22.099666,
   "end_time": "2023-11-09T16:37:49.211051",
   "environment_variables": {},
   "exception": null,
   "input_path": "__notebook__.ipynb",
   "output_path": "__notebook__.ipynb",
   "parameters": {},
   "start_time": "2023-11-09T16:37:27.111385",
   "version": "2.4.0"
  }
 },
 "nbformat": 4,
 "nbformat_minor": 5
}
